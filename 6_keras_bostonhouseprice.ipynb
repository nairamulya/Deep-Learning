{
  "nbformat": 4,
  "nbformat_minor": 0,
  "metadata": {
    "colab": {
      "name": "6.keras_bostonhouseprice.ipynb",
      "provenance": [],
      "collapsed_sections": [],
      "authorship_tag": "ABX9TyM7Jjro3HzipIit8DDk7Vjm",
      "include_colab_link": true
    },
    "kernelspec": {
      "name": "python3",
      "display_name": "Python 3"
    }
  },
  "cells": [
    {
      "cell_type": "markdown",
      "metadata": {
        "id": "view-in-github",
        "colab_type": "text"
      },
      "source": [
        "<a href=\"https://colab.research.google.com/github/nairamulya/Deep-Learning/blob/master/6_keras_bostonhouseprice.ipynb\" target=\"_parent\"><img src=\"https://colab.research.google.com/assets/colab-badge.svg\" alt=\"Open In Colab\"/></a>"
      ]
    },
    {
      "cell_type": "code",
      "metadata": {
        "id": "uNTCz1yxuFd3",
        "colab_type": "code",
        "outputId": "9fdf5b61-b6fd-419a-fe21-04bc94b1a7e2",
        "colab": {
          "base_uri": "https://localhost:8080/",
          "height": 62
        }
      },
      "source": [
        "import numpy as np\n",
        "import pandas as pd\n",
        "import matplotlib.pyplot as plt\n",
        "\n",
        "from sklearn.datasets import load_boston\n",
        "import tensorflow as tf\n",
        "from tensorflow import keras"
      ],
      "execution_count": 0,
      "outputs": [
        {
          "output_type": "display_data",
          "data": {
            "text/html": [
              "<p style=\"color: red;\">\n",
              "The default version of TensorFlow in Colab will soon switch to TensorFlow 2.x.<br>\n",
              "We recommend you <a href=\"https://www.tensorflow.org/guide/migrate\" target=\"_blank\">upgrade</a> now \n",
              "or ensure your notebook will continue to use TensorFlow 1.x via the <code>%tensorflow_version 1.x</code> magic:\n",
              "<a href=\"https://colab.research.google.com/notebooks/tensorflow_version.ipynb\" target=\"_blank\">more info</a>.</p>\n"
            ],
            "text/plain": [
              "<IPython.core.display.HTML object>"
            ]
          },
          "metadata": {
            "tags": []
          }
        }
      ]
    },
    {
      "cell_type": "code",
      "metadata": {
        "id": "8CRE0MG7uTBa",
        "colab_type": "code",
        "colab": {}
      },
      "source": [
        "tf.set_random_seed(42)\n",
        "np.random.seed(42)"
      ],
      "execution_count": 0,
      "outputs": []
    },
    {
      "cell_type": "code",
      "metadata": {
        "id": "n76X638MufSb",
        "colab_type": "code",
        "colab": {}
      },
      "source": [
        "d=load_boston()\n",
        "\n",
        "x=d.data\n",
        "y=d.target"
      ],
      "execution_count": 0,
      "outputs": []
    },
    {
      "cell_type": "code",
      "metadata": {
        "id": "iig_Et0ounwo",
        "colab_type": "code",
        "colab": {}
      },
      "source": [
        "from sklearn.model_selection import train_test_split"
      ],
      "execution_count": 0,
      "outputs": []
    },
    {
      "cell_type": "code",
      "metadata": {
        "id": "3cvVI2VFuu0F",
        "colab_type": "code",
        "colab": {}
      },
      "source": [
        "x_train, x_test, y_train, y_test = train_test_split(x, y, test_size=0.2,random_state=42)"
      ],
      "execution_count": 0,
      "outputs": []
    },
    {
      "cell_type": "code",
      "metadata": {
        "id": "K58ocSUvuz5_",
        "colab_type": "code",
        "colab": {}
      },
      "source": [
        "from sklearn.preprocessing import StandardScaler"
      ],
      "execution_count": 0,
      "outputs": []
    },
    {
      "cell_type": "code",
      "metadata": {
        "id": "Oj2aWIaCvBpK",
        "colab_type": "code",
        "outputId": "62299046-3655-4234-ff28-cb3d175209c3",
        "colab": {
          "base_uri": "https://localhost:8080/",
          "height": 33
        }
      },
      "source": [
        "sc=StandardScaler()\n",
        "sc.fit(x_train)"
      ],
      "execution_count": 0,
      "outputs": [
        {
          "output_type": "execute_result",
          "data": {
            "text/plain": [
              "StandardScaler(copy=True, with_mean=True, with_std=True)"
            ]
          },
          "metadata": {
            "tags": []
          },
          "execution_count": 11
        }
      ]
    },
    {
      "cell_type": "code",
      "metadata": {
        "id": "bYGEbVL5vJlL",
        "colab_type": "code",
        "colab": {}
      },
      "source": [
        "x_train_std = sc.transform(x_train)\n",
        "x_test_std = sc.transform(x_test)"
      ],
      "execution_count": 0,
      "outputs": []
    },
    {
      "cell_type": "code",
      "metadata": {
        "id": "13N4b3govUXF",
        "colab_type": "code",
        "colab": {}
      },
      "source": [
        "model_MLP=keras.models.Sequential()"
      ],
      "execution_count": 0,
      "outputs": []
    },
    {
      "cell_type": "code",
      "metadata": {
        "id": "8A2aSqauvlwf",
        "colab_type": "code",
        "outputId": "2829a0f2-fbb0-46a2-cf17-98359bc2e6ce",
        "colab": {
          "base_uri": "https://localhost:8080/",
          "height": 87
        }
      },
      "source": [
        "model_MLP.add(keras.layers.Dense(units=5, activation='relu', input_shape=x_train.shape[1:]))"
      ],
      "execution_count": 0,
      "outputs": [
        {
          "output_type": "stream",
          "text": [
            "WARNING:tensorflow:From /usr/local/lib/python3.6/dist-packages/tensorflow_core/python/ops/resource_variable_ops.py:1630: calling BaseResourceVariable.__init__ (from tensorflow.python.ops.resource_variable_ops) with constraint is deprecated and will be removed in a future version.\n",
            "Instructions for updating:\n",
            "If using Keras pass *_constraint arguments to layers.\n"
          ],
          "name": "stdout"
        }
      ]
    },
    {
      "cell_type": "code",
      "metadata": {
        "id": "95Znc6nKvZpk",
        "colab_type": "code",
        "outputId": "f3486ff0-ea75-4558-da4a-4724551f3f9c",
        "colab": {
          "base_uri": "https://localhost:8080/",
          "height": 217
        }
      },
      "source": [
        "model_MLP.add(keras.layers.Dense(units=1, activation='linear'))\n",
        "model_MLP.summary()"
      ],
      "execution_count": 0,
      "outputs": [
        {
          "output_type": "stream",
          "text": [
            "Model: \"sequential\"\n",
            "_________________________________________________________________\n",
            "Layer (type)                 Output Shape              Param #   \n",
            "=================================================================\n",
            "dense (Dense)                (None, 5)                 70        \n",
            "_________________________________________________________________\n",
            "dense_1 (Dense)              (None, 1)                 6         \n",
            "=================================================================\n",
            "Total params: 76\n",
            "Trainable params: 76\n",
            "Non-trainable params: 0\n",
            "_________________________________________________________________\n"
          ],
          "name": "stdout"
        }
      ]
    },
    {
      "cell_type": "code",
      "metadata": {
        "id": "OvA-a1blvvcs",
        "colab_type": "code",
        "colab": {}
      },
      "source": [
        "model_MLP.compile(loss='mse', optimizer='adam', metrics=['mae'])"
      ],
      "execution_count": 0,
      "outputs": []
    },
    {
      "cell_type": "code",
      "metadata": {
        "id": "4XX5nq3KvzEw",
        "colab_type": "code",
        "outputId": "deab27c8-dbf9-4b44-d898-d445e3e22912",
        "colab": {
          "base_uri": "https://localhost:8080/",
          "height": 1000
        }
      },
      "source": [
        "model_MLP.fit(x=x_train_std, y=y_train, validation_split=0.1,epochs=50, batch_size=16)\n",
        "test_loss, test_accuracy = model_MLP.evaluate(x=x_test_std, y=y_test)"
      ],
      "execution_count": 0,
      "outputs": [
        {
          "output_type": "stream",
          "text": [
            "Train on 363 samples, validate on 41 samples\n",
            "Epoch 1/50\n",
            "363/363 [==============================] - 0s 614us/sample - loss: 591.9115 - mean_absolute_error: 22.2844 - val_loss: 580.4660 - val_mean_absolute_error: 22.5036\n",
            "Epoch 2/50\n",
            "363/363 [==============================] - 0s 97us/sample - loss: 584.1359 - mean_absolute_error: 22.1163 - val_loss: 572.5298 - val_mean_absolute_error: 22.3348\n",
            "Epoch 3/50\n",
            "363/363 [==============================] - 0s 89us/sample - loss: 575.4931 - mean_absolute_error: 21.9328 - val_loss: 563.8963 - val_mean_absolute_error: 22.1495\n",
            "Epoch 4/50\n",
            "363/363 [==============================] - 0s 89us/sample - loss: 566.1672 - mean_absolute_error: 21.7305 - val_loss: 554.0829 - val_mean_absolute_error: 21.9445\n",
            "Epoch 5/50\n",
            "363/363 [==============================] - 0s 87us/sample - loss: 555.5924 - mean_absolute_error: 21.5051 - val_loss: 543.0719 - val_mean_absolute_error: 21.7120\n",
            "Epoch 6/50\n",
            "363/363 [==============================] - 0s 86us/sample - loss: 543.7451 - mean_absolute_error: 21.2544 - val_loss: 531.0671 - val_mean_absolute_error: 21.4587\n",
            "Epoch 7/50\n",
            "363/363 [==============================] - 0s 85us/sample - loss: 530.7165 - mean_absolute_error: 20.9818 - val_loss: 517.8653 - val_mean_absolute_error: 21.1815\n",
            "Epoch 8/50\n",
            "363/363 [==============================] - 0s 89us/sample - loss: 516.1676 - mean_absolute_error: 20.6692 - val_loss: 503.3562 - val_mean_absolute_error: 20.8697\n",
            "Epoch 9/50\n",
            "363/363 [==============================] - 0s 86us/sample - loss: 500.5656 - mean_absolute_error: 20.3330 - val_loss: 487.8004 - val_mean_absolute_error: 20.5361\n",
            "Epoch 10/50\n",
            "363/363 [==============================] - 0s 91us/sample - loss: 483.4704 - mean_absolute_error: 19.9611 - val_loss: 472.0730 - val_mean_absolute_error: 20.1863\n",
            "Epoch 11/50\n",
            "363/363 [==============================] - 0s 80us/sample - loss: 466.1712 - mean_absolute_error: 19.5772 - val_loss: 455.3302 - val_mean_absolute_error: 19.8120\n",
            "Epoch 12/50\n",
            "363/363 [==============================] - 0s 80us/sample - loss: 447.9830 - mean_absolute_error: 19.1574 - val_loss: 438.1280 - val_mean_absolute_error: 19.4128\n",
            "Epoch 13/50\n",
            "363/363 [==============================] - 0s 86us/sample - loss: 429.1864 - mean_absolute_error: 18.7185 - val_loss: 420.3255 - val_mean_absolute_error: 18.9806\n",
            "Epoch 14/50\n",
            "363/363 [==============================] - 0s 87us/sample - loss: 410.3097 - mean_absolute_error: 18.2516 - val_loss: 401.5882 - val_mean_absolute_error: 18.5133\n",
            "Epoch 15/50\n",
            "363/363 [==============================] - 0s 87us/sample - loss: 390.8170 - mean_absolute_error: 17.7532 - val_loss: 383.2035 - val_mean_absolute_error: 18.0400\n",
            "Epoch 16/50\n",
            "363/363 [==============================] - 0s 87us/sample - loss: 371.2966 - mean_absolute_error: 17.2437 - val_loss: 364.2465 - val_mean_absolute_error: 17.5407\n",
            "Epoch 17/50\n",
            "363/363 [==============================] - 0s 88us/sample - loss: 351.9978 - mean_absolute_error: 16.7122 - val_loss: 344.8616 - val_mean_absolute_error: 17.0144\n",
            "Epoch 18/50\n",
            "363/363 [==============================] - 0s 88us/sample - loss: 332.2986 - mean_absolute_error: 16.1548 - val_loss: 326.6453 - val_mean_absolute_error: 16.5187\n",
            "Epoch 19/50\n",
            "363/363 [==============================] - 0s 87us/sample - loss: 313.4142 - mean_absolute_error: 15.5968 - val_loss: 308.7452 - val_mean_absolute_error: 16.0099\n",
            "Epoch 20/50\n",
            "363/363 [==============================] - 0s 86us/sample - loss: 295.2741 - mean_absolute_error: 15.0284 - val_loss: 291.0519 - val_mean_absolute_error: 15.4867\n",
            "Epoch 21/50\n",
            "363/363 [==============================] - 0s 88us/sample - loss: 277.4095 - mean_absolute_error: 14.4683 - val_loss: 274.4735 - val_mean_absolute_error: 14.9714\n",
            "Epoch 22/50\n",
            "363/363 [==============================] - 0s 88us/sample - loss: 260.5959 - mean_absolute_error: 13.9047 - val_loss: 258.5265 - val_mean_absolute_error: 14.4542\n",
            "Epoch 23/50\n",
            "363/363 [==============================] - 0s 104us/sample - loss: 244.6231 - mean_absolute_error: 13.3478 - val_loss: 243.4387 - val_mean_absolute_error: 13.9417\n",
            "Epoch 24/50\n",
            "363/363 [==============================] - 0s 100us/sample - loss: 229.7045 - mean_absolute_error: 12.7916 - val_loss: 229.1221 - val_mean_absolute_error: 13.4272\n",
            "Epoch 25/50\n",
            "363/363 [==============================] - 0s 84us/sample - loss: 215.6233 - mean_absolute_error: 12.2720 - val_loss: 215.7784 - val_mean_absolute_error: 12.9252\n",
            "Epoch 26/50\n",
            "363/363 [==============================] - 0s 80us/sample - loss: 202.5999 - mean_absolute_error: 11.7795 - val_loss: 203.3384 - val_mean_absolute_error: 12.4322\n",
            "Epoch 27/50\n",
            "363/363 [==============================] - 0s 84us/sample - loss: 190.4430 - mean_absolute_error: 11.3091 - val_loss: 191.9298 - val_mean_absolute_error: 12.0012\n",
            "Epoch 28/50\n",
            "363/363 [==============================] - 0s 87us/sample - loss: 179.2226 - mean_absolute_error: 10.8708 - val_loss: 181.2844 - val_mean_absolute_error: 11.5844\n",
            "Epoch 29/50\n",
            "363/363 [==============================] - 0s 96us/sample - loss: 168.8182 - mean_absolute_error: 10.4620 - val_loss: 171.2503 - val_mean_absolute_error: 11.1676\n",
            "Epoch 30/50\n",
            "363/363 [==============================] - 0s 84us/sample - loss: 159.0495 - mean_absolute_error: 10.0786 - val_loss: 162.3332 - val_mean_absolute_error: 10.7784\n",
            "Epoch 31/50\n",
            "363/363 [==============================] - 0s 90us/sample - loss: 150.2296 - mean_absolute_error: 9.7524 - val_loss: 154.0479 - val_mean_absolute_error: 10.4029\n",
            "Epoch 32/50\n",
            "363/363 [==============================] - 0s 96us/sample - loss: 142.0789 - mean_absolute_error: 9.4286 - val_loss: 146.3848 - val_mean_absolute_error: 10.0412\n",
            "Epoch 33/50\n",
            "363/363 [==============================] - 0s 93us/sample - loss: 134.4756 - mean_absolute_error: 9.1485 - val_loss: 139.2458 - val_mean_absolute_error: 9.6871\n",
            "Epoch 34/50\n",
            "363/363 [==============================] - 0s 87us/sample - loss: 127.5135 - mean_absolute_error: 8.8802 - val_loss: 132.4723 - val_mean_absolute_error: 9.3345\n",
            "Epoch 35/50\n",
            "363/363 [==============================] - 0s 88us/sample - loss: 120.9343 - mean_absolute_error: 8.6190 - val_loss: 126.4461 - val_mean_absolute_error: 9.0112\n",
            "Epoch 36/50\n",
            "363/363 [==============================] - 0s 88us/sample - loss: 114.9610 - mean_absolute_error: 8.3723 - val_loss: 120.8066 - val_mean_absolute_error: 8.7027\n",
            "Epoch 37/50\n",
            "363/363 [==============================] - 0s 83us/sample - loss: 109.4308 - mean_absolute_error: 8.1624 - val_loss: 115.4780 - val_mean_absolute_error: 8.3941\n",
            "Epoch 38/50\n",
            "363/363 [==============================] - 0s 94us/sample - loss: 104.0760 - mean_absolute_error: 7.9416 - val_loss: 110.8136 - val_mean_absolute_error: 8.1220\n",
            "Epoch 39/50\n",
            "363/363 [==============================] - 0s 80us/sample - loss: 99.2128 - mean_absolute_error: 7.7313 - val_loss: 106.3006 - val_mean_absolute_error: 7.8604\n",
            "Epoch 40/50\n",
            "363/363 [==============================] - 0s 95us/sample - loss: 94.6233 - mean_absolute_error: 7.5380 - val_loss: 102.0435 - val_mean_absolute_error: 7.5980\n",
            "Epoch 41/50\n",
            "363/363 [==============================] - 0s 95us/sample - loss: 90.2165 - mean_absolute_error: 7.3429 - val_loss: 98.1484 - val_mean_absolute_error: 7.3719\n",
            "Epoch 42/50\n",
            "363/363 [==============================] - 0s 86us/sample - loss: 86.1696 - mean_absolute_error: 7.1655 - val_loss: 94.5962 - val_mean_absolute_error: 7.1612\n",
            "Epoch 43/50\n",
            "363/363 [==============================] - 0s 83us/sample - loss: 82.4090 - mean_absolute_error: 6.9924 - val_loss: 91.0712 - val_mean_absolute_error: 6.9508\n",
            "Epoch 44/50\n",
            "363/363 [==============================] - 0s 80us/sample - loss: 78.7556 - mean_absolute_error: 6.8166 - val_loss: 87.7909 - val_mean_absolute_error: 6.7640\n",
            "Epoch 45/50\n",
            "363/363 [==============================] - 0s 85us/sample - loss: 75.3655 - mean_absolute_error: 6.6494 - val_loss: 84.9922 - val_mean_absolute_error: 6.6101\n",
            "Epoch 46/50\n",
            "363/363 [==============================] - 0s 96us/sample - loss: 72.1735 - mean_absolute_error: 6.4931 - val_loss: 82.1094 - val_mean_absolute_error: 6.4531\n",
            "Epoch 47/50\n",
            "363/363 [==============================] - 0s 85us/sample - loss: 69.0929 - mean_absolute_error: 6.3478 - val_loss: 79.5693 - val_mean_absolute_error: 6.3187\n",
            "Epoch 48/50\n",
            "363/363 [==============================] - 0s 88us/sample - loss: 66.3151 - mean_absolute_error: 6.2049 - val_loss: 77.1600 - val_mean_absolute_error: 6.1871\n",
            "Epoch 49/50\n",
            "363/363 [==============================] - 0s 87us/sample - loss: 63.6027 - mean_absolute_error: 6.0737 - val_loss: 74.9758 - val_mean_absolute_error: 6.0831\n",
            "Epoch 50/50\n",
            "363/363 [==============================] - 0s 86us/sample - loss: 61.2040 - mean_absolute_error: 5.9428 - val_loss: 72.8745 - val_mean_absolute_error: 5.9855\n",
            "102/102 [==============================] - 0s 73us/sample - loss: 49.8213 - mean_absolute_error: 5.2063\n"
          ],
          "name": "stdout"
        }
      ]
    },
    {
      "cell_type": "code",
      "metadata": {
        "id": "vuUtaDPPv2iJ",
        "colab_type": "code",
        "outputId": "4e13a1c5-00c6-4a5b-ddbc-990dd89b48e5",
        "colab": {
          "base_uri": "https://localhost:8080/",
          "height": 33
        }
      },
      "source": [
        "print(test_loss, test_accuracy)"
      ],
      "execution_count": 0,
      "outputs": [
        {
          "output_type": "stream",
          "text": [
            "49.82129714068245 5.2063465\n"
          ],
          "name": "stdout"
        }
      ]
    },
    {
      "cell_type": "code",
      "metadata": {
        "id": "L1g6XMMxv8WE",
        "colab_type": "code",
        "colab": {}
      },
      "source": [
        ""
      ],
      "execution_count": 0,
      "outputs": []
    }
  ]
}