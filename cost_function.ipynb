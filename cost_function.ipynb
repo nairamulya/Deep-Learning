{
  "nbformat": 4,
  "nbformat_minor": 0,
  "metadata": {
    "colab": {
      "name": "cost function.ipynb",
      "provenance": [],
      "collapsed_sections": [],
      "authorship_tag": "ABX9TyPfX6/img6fkdrwlwSI/7oh",
      "include_colab_link": true
    },
    "kernelspec": {
      "name": "python3",
      "display_name": "Python 3"
    }
  },
  "cells": [
    {
      "cell_type": "markdown",
      "metadata": {
        "id": "view-in-github",
        "colab_type": "text"
      },
      "source": [
        "<a href=\"https://colab.research.google.com/github/nairamulya/Deep-Learning/blob/master/cost_function.ipynb\" target=\"_parent\"><img src=\"https://colab.research.google.com/assets/colab-badge.svg\" alt=\"Open In Colab\"/></a>"
      ]
    },
    {
      "cell_type": "code",
      "metadata": {
        "id": "FGr5u9eO4Lo3",
        "colab_type": "code",
        "colab": {}
      },
      "source": [
        "from sklearn.metrics import mean_squared_error"
      ],
      "execution_count": 0,
      "outputs": []
    },
    {
      "cell_type": "code",
      "metadata": {
        "id": "rlR2wMj54YMR",
        "colab_type": "code",
        "colab": {}
      },
      "source": [
        "y_true = [3, -0.5, 2, 7] \n",
        "y_pred = [2.5, 0.0, 2, 8]\n",
        "\n",
        "mse = mean_squared_error(y_true, y_pred)"
      ],
      "execution_count": 0,
      "outputs": []
    },
    {
      "cell_type": "code",
      "metadata": {
        "id": "Fr6xxXS94bf8",
        "colab_type": "code",
        "outputId": "04c08f1a-1928-4b7f-c0aa-1ec26d648c93",
        "colab": {
          "base_uri": "https://localhost:8080/",
          "height": 50
        }
      },
      "source": [
        "print(\"MSE: %f\\n\" % mse)"
      ],
      "execution_count": 0,
      "outputs": [
        {
          "output_type": "stream",
          "text": [
            "MSE: 0.375000\n",
            "\n"
          ],
          "name": "stdout"
        }
      ]
    },
    {
      "cell_type": "code",
      "metadata": {
        "id": "0AGlAaDb4eQE",
        "colab_type": "code",
        "outputId": "ea2b0425-3f6f-4591-ad29-eaf2272d7f50",
        "colab": {
          "base_uri": "https://localhost:8080/",
          "height": 50
        }
      },
      "source": [
        "y_true = [[0.5, 1],[-1, 1],[7, -6]] \n",
        "y_pred = [[0, 2],[-1, 2],[8, -5]] \n",
        "mse = mean_squared_error(y_true, y_pred)  \n",
        "print(\"MSE: %f\\n\" % mse)"
      ],
      "execution_count": 0,
      "outputs": [
        {
          "output_type": "stream",
          "text": [
            "MSE: 0.708333\n",
            "\n"
          ],
          "name": "stdout"
        }
      ]
    },
    {
      "cell_type": "code",
      "metadata": {
        "id": "f_5-jvl94hRT",
        "colab_type": "code",
        "outputId": "9c96041d-970d-4d7e-e636-44224cba327d",
        "colab": {
          "base_uri": "https://localhost:8080/",
          "height": 33
        }
      },
      "source": [
        "print(mse)"
      ],
      "execution_count": 0,
      "outputs": [
        {
          "output_type": "stream",
          "text": [
            "0.7083333333333334\n"
          ],
          "name": "stdout"
        }
      ]
    },
    {
      "cell_type": "code",
      "metadata": {
        "id": "4RWUco_n4kAt",
        "colab_type": "code",
        "outputId": "1f21740b-d3bc-4c4a-e299-2044101458e0",
        "colab": {
          "base_uri": "https://localhost:8080/",
          "height": 50
        }
      },
      "source": [
        "mse = mean_squared_error(y_true, y_pred, multioutput='raw_values') \n",
        "print(\"MSE: {}\\n\".format(mse))"
      ],
      "execution_count": 0,
      "outputs": [
        {
          "output_type": "stream",
          "text": [
            "MSE: [0.41666667 1.        ]\n",
            "\n"
          ],
          "name": "stdout"
        }
      ]
    },
    {
      "cell_type": "code",
      "metadata": {
        "id": "aoDp8lo94oys",
        "colab_type": "code",
        "outputId": "0d78ce63-fae1-4bbf-b111-5a5c1c5344fe",
        "colab": {
          "base_uri": "https://localhost:8080/",
          "height": 50
        }
      },
      "source": [
        "mse = mean_squared_error(y_true, y_pred, multioutput='raw_values') \n",
        "print(\"MSE: {}\\n\".format(mse))"
      ],
      "execution_count": 0,
      "outputs": [
        {
          "output_type": "stream",
          "text": [
            "MSE: [0.41666667 1.        ]\n",
            "\n"
          ],
          "name": "stdout"
        }
      ]
    },
    {
      "cell_type": "code",
      "metadata": {
        "id": "8sEbSix-4seU",
        "colab_type": "code",
        "colab": {}
      },
      "source": [
        "from sklearn.metrics import mean_absolute_error"
      ],
      "execution_count": 0,
      "outputs": []
    },
    {
      "cell_type": "code",
      "metadata": {
        "id": "eEnNxTv64zaZ",
        "colab_type": "code",
        "outputId": "c4791f84-4f43-42b2-cac3-c17f0104e31a",
        "colab": {
          "base_uri": "https://localhost:8080/",
          "height": 33
        }
      },
      "source": [
        "mae=mean_absolute_error(y_true,y_pred)\n",
        "print(mae)"
      ],
      "execution_count": 0,
      "outputs": [
        {
          "output_type": "stream",
          "text": [
            "0.75\n"
          ],
          "name": "stdout"
        }
      ]
    },
    {
      "cell_type": "code",
      "metadata": {
        "id": "IrPvFidL437d",
        "colab_type": "code",
        "colab": {}
      },
      "source": [
        ""
      ],
      "execution_count": 0,
      "outputs": []
    }
  ]
}