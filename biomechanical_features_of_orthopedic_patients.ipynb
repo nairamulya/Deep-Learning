{
  "nbformat": 4,
  "nbformat_minor": 0,
  "metadata": {
    "colab": {
      "name": "biomechanical_features_of_orthopedic_patients.ipynb",
      "provenance": [],
      "authorship_tag": "ABX9TyPIFDRxMeX2SetiKqcGewCU",
      "include_colab_link": true
    },
    "kernelspec": {
      "name": "python3",
      "display_name": "Python 3"
    }
  },
  "cells": [
    {
      "cell_type": "markdown",
      "metadata": {
        "id": "view-in-github",
        "colab_type": "text"
      },
      "source": [
        "<a href=\"https://colab.research.google.com/github/nairamulya/Deep-Learning/blob/master/biomechanical_features_of_orthopedic_patients.ipynb\" target=\"_parent\"><img src=\"https://colab.research.google.com/assets/colab-badge.svg\" alt=\"Open In Colab\"/></a>"
      ]
    },
    {
      "cell_type": "code",
      "metadata": {
        "id": "ZjcL2rbtHjXN",
        "colab_type": "code",
        "colab": {
          "base_uri": "https://localhost:8080/",
          "height": 120
        },
        "outputId": "488b180a-4519-48e3-c924-47994b9b1e6e"
      },
      "source": [
        "from google.colab import drive\n",
        "drive.mount('/content/drive')"
      ],
      "execution_count": 3,
      "outputs": [
        {
          "output_type": "stream",
          "text": [
            "Go to this URL in a browser: https://accounts.google.com/o/oauth2/auth?client_id=947318989803-6bn6qk8qdgf4n4g3pfee6491hc0brc4i.apps.googleusercontent.com&redirect_uri=urn%3aietf%3awg%3aoauth%3a2.0%3aoob&response_type=code&scope=email%20https%3a%2f%2fwww.googleapis.com%2fauth%2fdocs.test%20https%3a%2f%2fwww.googleapis.com%2fauth%2fdrive%20https%3a%2f%2fwww.googleapis.com%2fauth%2fdrive.photos.readonly%20https%3a%2f%2fwww.googleapis.com%2fauth%2fpeopleapi.readonly\n",
            "\n",
            "Enter your authorization code:\n",
            "··········\n",
            "Mounted at /content/drive\n"
          ],
          "name": "stdout"
        }
      ]
    },
    {
      "cell_type": "code",
      "metadata": {
        "id": "OacVr72GGxLV",
        "colab_type": "code",
        "colab": {}
      },
      "source": [
        "import numpy as np\n",
        "import pandas as pd"
      ],
      "execution_count": 0,
      "outputs": []
    },
    {
      "cell_type": "code",
      "metadata": {
        "id": "Hm13-aODHpIr",
        "colab_type": "code",
        "colab": {}
      },
      "source": [
        "#binary dataset\n",
        "data1 = pd.read_csv('/content/drive/My Drive/column_2C_weka.csv')\n",
        "#multiclass dataset\n",
        "data2 = pd.read_csv('/content/drive/My Drive/column_3C_weka.csv')"
      ],
      "execution_count": 0,
      "outputs": []
    },
    {
      "cell_type": "code",
      "metadata": {
        "id": "7dWP8s3kH6BE",
        "colab_type": "code",
        "colab": {
          "base_uri": "https://localhost:8080/",
          "height": 217
        },
        "outputId": "f384f0e1-8d79-4f33-ade6-a39b2ba251e3"
      },
      "source": [
        "data1.info()"
      ],
      "execution_count": 6,
      "outputs": [
        {
          "output_type": "stream",
          "text": [
            "<class 'pandas.core.frame.DataFrame'>\n",
            "RangeIndex: 310 entries, 0 to 309\n",
            "Data columns (total 7 columns):\n",
            "pelvic_incidence            310 non-null float64\n",
            "pelvic_tilt numeric         310 non-null float64\n",
            "lumbar_lordosis_angle       310 non-null float64\n",
            "sacral_slope                310 non-null float64\n",
            "pelvic_radius               310 non-null float64\n",
            "degree_spondylolisthesis    310 non-null float64\n",
            "class                       310 non-null object\n",
            "dtypes: float64(6), object(1)\n",
            "memory usage: 17.1+ KB\n"
          ],
          "name": "stdout"
        }
      ]
    },
    {
      "cell_type": "code",
      "metadata": {
        "id": "Jn2JUiIRH_At",
        "colab_type": "code",
        "colab": {
          "base_uri": "https://localhost:8080/",
          "height": 217
        },
        "outputId": "90b1b85a-d2c7-407e-b551-78e23927a1e0"
      },
      "source": [
        "data2.info()"
      ],
      "execution_count": 7,
      "outputs": [
        {
          "output_type": "stream",
          "text": [
            "<class 'pandas.core.frame.DataFrame'>\n",
            "RangeIndex: 310 entries, 0 to 309\n",
            "Data columns (total 7 columns):\n",
            "pelvic_incidence            310 non-null float64\n",
            "pelvic_tilt                 310 non-null float64\n",
            "lumbar_lordosis_angle       310 non-null float64\n",
            "sacral_slope                310 non-null float64\n",
            "pelvic_radius               310 non-null float64\n",
            "degree_spondylolisthesis    310 non-null float64\n",
            "class                       310 non-null object\n",
            "dtypes: float64(6), object(1)\n",
            "memory usage: 17.1+ KB\n"
          ],
          "name": "stdout"
        }
      ]
    },
    {
      "cell_type": "code",
      "metadata": {
        "id": "FNyuFpy5IFkk",
        "colab_type": "code",
        "colab": {
          "base_uri": "https://localhost:8080/",
          "height": 217
        },
        "outputId": "b5514623-fb7e-4e87-dfd8-5e772386a297"
      },
      "source": [
        "print(data2['class'])"
      ],
      "execution_count": 8,
      "outputs": [
        {
          "output_type": "stream",
          "text": [
            "0      Hernia\n",
            "1      Hernia\n",
            "2      Hernia\n",
            "3      Hernia\n",
            "4      Hernia\n",
            "        ...  \n",
            "305    Normal\n",
            "306    Normal\n",
            "307    Normal\n",
            "308    Normal\n",
            "309    Normal\n",
            "Name: class, Length: 310, dtype: object\n"
          ],
          "name": "stdout"
        }
      ]
    },
    {
      "cell_type": "code",
      "metadata": {
        "id": "hdgQppW3IJoS",
        "colab_type": "code",
        "colab": {}
      },
      "source": [
        "from sklearn import preprocessing\n",
        "le = preprocessing.LabelEncoder()\n",
        "\n",
        "le.fit(data1['class'])\n",
        "data1['class']=le.transform(data1['class'])\n",
        "\n",
        "le.fit(data2['class'])\n",
        "data2['class']=le.transform(data2['class'])"
      ],
      "execution_count": 0,
      "outputs": []
    },
    {
      "cell_type": "code",
      "metadata": {
        "id": "h6KoGu90INBJ",
        "colab_type": "code",
        "colab": {}
      },
      "source": [
        "y1=data1['class']\n",
        "data1.drop(['class'],axis=1,inplace=True)\n",
        "\n",
        "y2=data2['class']\n",
        "data2.drop(['class'],axis=1,inplace=True)"
      ],
      "execution_count": 0,
      "outputs": []
    },
    {
      "cell_type": "code",
      "metadata": {
        "id": "hAUtuG6yIQQa",
        "colab_type": "code",
        "colab": {}
      },
      "source": [
        "from sklearn.model_selection import train_test_split\n",
        "X_train1, X_test1, y_train1, y_test1 = train_test_split(data1, y1, test_size=0.275, stratify=y1,random_state=42)\n",
        "\n",
        "X_train2, X_test2, y_train2, y_test2 = train_test_split(data2, y2, test_size=0.275, stratify=y2,random_state=42)"
      ],
      "execution_count": 0,
      "outputs": []
    },
    {
      "cell_type": "code",
      "metadata": {
        "id": "HLVadKOMIVrG",
        "colab_type": "code",
        "colab": {}
      },
      "source": [
        ""
      ],
      "execution_count": 0,
      "outputs": []
    },
    {
      "cell_type": "markdown",
      "metadata": {
        "id": "EiJfK2BmIZVn",
        "colab_type": "text"
      },
      "source": [
        "#perceptron"
      ]
    },
    {
      "cell_type": "code",
      "metadata": {
        "id": "OMWOHlwvIeSg",
        "colab_type": "code",
        "colab": {}
      },
      "source": [
        "from sklearn.linear_model import Perceptron"
      ],
      "execution_count": 0,
      "outputs": []
    },
    {
      "cell_type": "code",
      "metadata": {
        "id": "EdFpFw61Ifzp",
        "colab_type": "code",
        "colab": {
          "base_uri": "https://localhost:8080/",
          "height": 84
        },
        "outputId": "042632ea-b99f-4871-dfe9-c8e271afe4dd"
      },
      "source": [
        "perceptronClassifier = Perceptron(alpha=.1,max_iter=100, n_iter_no_change=5)\n",
        "perceptronClassifier.fit(X_train1, y_train1)"
      ],
      "execution_count": 14,
      "outputs": [
        {
          "output_type": "execute_result",
          "data": {
            "text/plain": [
              "Perceptron(alpha=0.1, class_weight=None, early_stopping=False, eta0=1.0,\n",
              "           fit_intercept=True, max_iter=100, n_iter_no_change=5, n_jobs=None,\n",
              "           penalty=None, random_state=0, shuffle=True, tol=0.001,\n",
              "           validation_fraction=0.1, verbose=0, warm_start=False)"
            ]
          },
          "metadata": {
            "tags": []
          },
          "execution_count": 14
        }
      ]
    },
    {
      "cell_type": "code",
      "metadata": {
        "id": "gnA124VGIi5N",
        "colab_type": "code",
        "colab": {
          "base_uri": "https://localhost:8080/",
          "height": 33
        },
        "outputId": "aca0f575-72b5-4196-baab-7545c05353a2"
      },
      "source": [
        "print(perceptronClassifier.score(X_test1, y_test1)) #binary dataset"
      ],
      "execution_count": 15,
      "outputs": [
        {
          "output_type": "stream",
          "text": [
            "0.813953488372093\n"
          ],
          "name": "stdout"
        }
      ]
    },
    {
      "cell_type": "code",
      "metadata": {
        "id": "mWvyGgFWIsr1",
        "colab_type": "code",
        "colab": {}
      },
      "source": [
        ""
      ],
      "execution_count": 0,
      "outputs": []
    },
    {
      "cell_type": "markdown",
      "metadata": {
        "id": "xI2xRSalIxFO",
        "colab_type": "text"
      },
      "source": [
        "#MLP"
      ]
    },
    {
      "cell_type": "code",
      "metadata": {
        "id": "wLjJy2U9Iy4c",
        "colab_type": "code",
        "colab": {}
      },
      "source": [
        "from sklearn.neural_network import MLPClassifier\n",
        "mlpClassifier1 = MLPClassifier(solver = 'lbfgs' , alpha = 1e-5 ,hidden_layer_sizes = ( 25 , 10 ), random_state = 1 )\n",
        "mlpClassifier2 = MLPClassifier(solver = 'lbfgs' , alpha = 1e-5 ,hidden_layer_sizes = ( 25 , 10 ), random_state = 1 )"
      ],
      "execution_count": 0,
      "outputs": []
    },
    {
      "cell_type": "code",
      "metadata": {
        "id": "PDwf3JOwIzjj",
        "colab_type": "code",
        "colab": {
          "base_uri": "https://localhost:8080/",
          "height": 351
        },
        "outputId": "d9132ecf-7973-470b-f6bd-cb7277895660"
      },
      "source": [
        "mlpClassifier1.fit(X_train1, y_train1)\n",
        "\n",
        "mlpClassifier2.fit(X_train2, y_train2)"
      ],
      "execution_count": 17,
      "outputs": [
        {
          "output_type": "stream",
          "text": [
            "/usr/local/lib/python3.6/dist-packages/sklearn/neural_network/_multilayer_perceptron.py:470: ConvergenceWarning: lbfgs failed to converge (status=1):\n",
            "STOP: TOTAL NO. of ITERATIONS REACHED LIMIT.\n",
            "\n",
            "Increase the number of iterations (max_iter) or scale the data as shown in:\n",
            "    https://scikit-learn.org/stable/modules/preprocessing.html\n",
            "  self.n_iter_ = _check_optimize_result(\"lbfgs\", opt_res, self.max_iter)\n",
            "/usr/local/lib/python3.6/dist-packages/sklearn/neural_network/_multilayer_perceptron.py:470: ConvergenceWarning: lbfgs failed to converge (status=1):\n",
            "STOP: TOTAL NO. of ITERATIONS REACHED LIMIT.\n",
            "\n",
            "Increase the number of iterations (max_iter) or scale the data as shown in:\n",
            "    https://scikit-learn.org/stable/modules/preprocessing.html\n",
            "  self.n_iter_ = _check_optimize_result(\"lbfgs\", opt_res, self.max_iter)\n"
          ],
          "name": "stderr"
        },
        {
          "output_type": "execute_result",
          "data": {
            "text/plain": [
              "MLPClassifier(activation='relu', alpha=1e-05, batch_size='auto', beta_1=0.9,\n",
              "              beta_2=0.999, early_stopping=False, epsilon=1e-08,\n",
              "              hidden_layer_sizes=(25, 10), learning_rate='constant',\n",
              "              learning_rate_init=0.001, max_fun=15000, max_iter=200,\n",
              "              momentum=0.9, n_iter_no_change=10, nesterovs_momentum=True,\n",
              "              power_t=0.5, random_state=1, shuffle=True, solver='lbfgs',\n",
              "              tol=0.0001, validation_fraction=0.1, verbose=False,\n",
              "              warm_start=False)"
            ]
          },
          "metadata": {
            "tags": []
          },
          "execution_count": 17
        }
      ]
    },
    {
      "cell_type": "code",
      "metadata": {
        "id": "xI0XUJAVI4mq",
        "colab_type": "code",
        "colab": {
          "base_uri": "https://localhost:8080/",
          "height": 50
        },
        "outputId": "32384dc1-8de3-4acc-95d9-51ae5806e90c"
      },
      "source": [
        "print(mlpClassifier1.score(X_test1, y_test1)) #binary dataset\n",
        "print(mlpClassifier2.score(X_test2, y_test2)) #multiclass dataset"
      ],
      "execution_count": 18,
      "outputs": [
        {
          "output_type": "stream",
          "text": [
            "0.8488372093023255\n",
            "0.7674418604651163\n"
          ],
          "name": "stdout"
        }
      ]
    },
    {
      "cell_type": "code",
      "metadata": {
        "id": "NTd_OcheI7mX",
        "colab_type": "code",
        "colab": {}
      },
      "source": [
        ""
      ],
      "execution_count": 0,
      "outputs": []
    },
    {
      "cell_type": "markdown",
      "metadata": {
        "id": "L2bUxJPPJAnV",
        "colab_type": "text"
      },
      "source": [
        "##keras"
      ]
    },
    {
      "cell_type": "code",
      "metadata": {
        "id": "E1mWlkYnJCm4",
        "colab_type": "code",
        "colab": {
          "base_uri": "https://localhost:8080/",
          "height": 62
        },
        "outputId": "d25700e4-a2c2-41b1-fe71-8f0af60db20c"
      },
      "source": [
        "import tensorflow.compat.v1 as tf\n",
        "from tensorflow import keras"
      ],
      "execution_count": 19,
      "outputs": [
        {
          "output_type": "display_data",
          "data": {
            "text/html": [
              "<p style=\"color: red;\">\n",
              "The default version of TensorFlow in Colab will soon switch to TensorFlow 2.x.<br>\n",
              "We recommend you <a href=\"https://www.tensorflow.org/guide/migrate\" target=\"_blank\">upgrade</a> now \n",
              "or ensure your notebook will continue to use TensorFlow 1.x via the <code>%tensorflow_version 1.x</code> magic:\n",
              "<a href=\"https://colab.research.google.com/notebooks/tensorflow_version.ipynb\" target=\"_blank\">more info</a>.</p>\n"
            ],
            "text/plain": [
              "<IPython.core.display.HTML object>"
            ]
          },
          "metadata": {
            "tags": []
          }
        }
      ]
    },
    {
      "cell_type": "code",
      "metadata": {
        "id": "5EwOz_dcJDXQ",
        "colab_type": "code",
        "colab": {}
      },
      "source": [
        "tf.set_random_seed(42)\n",
        "np.random.seed(42)\n",
        "from sklearn.preprocessing import StandardScaler\n",
        "sc1 = StandardScaler()\n",
        "sc2 = StandardScaler()"
      ],
      "execution_count": 0,
      "outputs": []
    },
    {
      "cell_type": "code",
      "metadata": {
        "id": "TXPmWOkHJQtE",
        "colab_type": "code",
        "colab": {
          "base_uri": "https://localhost:8080/",
          "height": 288
        },
        "outputId": "fe97c45f-cff6-41bd-a449-9e8639537628"
      },
      "source": [
        "model_MLP1 = keras.models.Sequential()\n",
        "\n",
        "model_MLP1.add(keras.layers.Dense(units=5, activation='relu', input_shape=X_train1.shape[1:]))\n",
        "\n",
        "model_MLP1.add(keras.layers.Dense(units=1, activation='sigmoid'))\n",
        "\n",
        "model_MLP1.summary()"
      ],
      "execution_count": 21,
      "outputs": [
        {
          "output_type": "stream",
          "text": [
            "WARNING:tensorflow:From /usr/local/lib/python3.6/dist-packages/tensorflow_core/python/ops/resource_variable_ops.py:1630: calling BaseResourceVariable.__init__ (from tensorflow.python.ops.resource_variable_ops) with constraint is deprecated and will be removed in a future version.\n",
            "Instructions for updating:\n",
            "If using Keras pass *_constraint arguments to layers.\n",
            "Model: \"sequential\"\n",
            "_________________________________________________________________\n",
            "Layer (type)                 Output Shape              Param #   \n",
            "=================================================================\n",
            "dense (Dense)                (None, 5)                 35        \n",
            "_________________________________________________________________\n",
            "dense_1 (Dense)              (None, 1)                 6         \n",
            "=================================================================\n",
            "Total params: 41\n",
            "Trainable params: 41\n",
            "Non-trainable params: 0\n",
            "_________________________________________________________________\n"
          ],
          "name": "stdout"
        }
      ]
    },
    {
      "cell_type": "code",
      "metadata": {
        "id": "XlLLDuTGJTwz",
        "colab_type": "code",
        "colab": {
          "base_uri": "https://localhost:8080/",
          "height": 87
        },
        "outputId": "367efffa-6ad8-4a6d-ed46-3694c4117e0b"
      },
      "source": [
        "model_MLP1.compile(loss='binary_crossentropy', optimizer='adam',metrics=['accuracy'])"
      ],
      "execution_count": 22,
      "outputs": [
        {
          "output_type": "stream",
          "text": [
            "WARNING:tensorflow:From /usr/local/lib/python3.6/dist-packages/tensorflow_core/python/ops/nn_impl.py:183: where (from tensorflow.python.ops.array_ops) is deprecated and will be removed in a future version.\n",
            "Instructions for updating:\n",
            "Use tf.where in 2.0, which has the same broadcast rule as np.where\n"
          ],
          "name": "stdout"
        }
      ]
    },
    {
      "cell_type": "code",
      "metadata": {
        "id": "iDymUgHaJWuk",
        "colab_type": "code",
        "colab": {
          "base_uri": "https://localhost:8080/",
          "height": 1000
        },
        "outputId": "ad87580c-ec6d-42e3-d6b3-2164a37d7a74"
      },
      "source": [
        "model_MLP1.fit(x=X_train1, y=y_train1, validation_split=0.1,epochs=50, batch_size=16) #binary"
      ],
      "execution_count": 23,
      "outputs": [
        {
          "output_type": "stream",
          "text": [
            "Train on 201 samples, validate on 23 samples\n",
            "Epoch 1/50\n",
            "201/201 [==============================] - 0s 2ms/sample - loss: 19.0153 - acc: 0.3383 - val_loss: 21.1174 - val_acc: 0.1739\n",
            "Epoch 2/50\n",
            "201/201 [==============================] - 0s 151us/sample - loss: 16.6845 - acc: 0.3483 - val_loss: 18.0380 - val_acc: 0.1739\n",
            "Epoch 3/50\n",
            "201/201 [==============================] - 0s 103us/sample - loss: 14.5122 - acc: 0.3383 - val_loss: 15.4143 - val_acc: 0.1739\n",
            "Epoch 4/50\n",
            "201/201 [==============================] - 0s 102us/sample - loss: 12.6369 - acc: 0.3333 - val_loss: 13.0800 - val_acc: 0.1739\n",
            "Epoch 5/50\n",
            "201/201 [==============================] - 0s 120us/sample - loss: 10.9013 - acc: 0.3333 - val_loss: 11.2070 - val_acc: 0.2174\n",
            "Epoch 6/50\n",
            "201/201 [==============================] - 0s 140us/sample - loss: 9.2871 - acc: 0.3383 - val_loss: 9.5426 - val_acc: 0.2174\n",
            "Epoch 7/50\n",
            "201/201 [==============================] - 0s 116us/sample - loss: 7.9260 - acc: 0.3483 - val_loss: 7.9976 - val_acc: 0.2174\n",
            "Epoch 8/50\n",
            "201/201 [==============================] - 0s 132us/sample - loss: 6.7898 - acc: 0.3532 - val_loss: 6.5618 - val_acc: 0.2174\n",
            "Epoch 9/50\n",
            "201/201 [==============================] - 0s 122us/sample - loss: 5.7307 - acc: 0.3532 - val_loss: 5.4656 - val_acc: 0.2609\n",
            "Epoch 10/50\n",
            "201/201 [==============================] - 0s 101us/sample - loss: 4.9125 - acc: 0.3781 - val_loss: 4.5712 - val_acc: 0.2174\n",
            "Epoch 11/50\n",
            "201/201 [==============================] - 0s 126us/sample - loss: 4.2485 - acc: 0.4030 - val_loss: 3.8705 - val_acc: 0.2174\n",
            "Epoch 12/50\n",
            "201/201 [==============================] - 0s 115us/sample - loss: 3.7470 - acc: 0.4279 - val_loss: 3.3301 - val_acc: 0.2609\n",
            "Epoch 13/50\n",
            "201/201 [==============================] - 0s 114us/sample - loss: 3.3858 - acc: 0.4876 - val_loss: 2.9370 - val_acc: 0.3478\n",
            "Epoch 14/50\n",
            "201/201 [==============================] - 0s 108us/sample - loss: 3.0718 - acc: 0.5124 - val_loss: 2.6494 - val_acc: 0.3478\n",
            "Epoch 15/50\n",
            "201/201 [==============================] - 0s 118us/sample - loss: 2.8510 - acc: 0.5373 - val_loss: 2.4164 - val_acc: 0.3913\n",
            "Epoch 16/50\n",
            "201/201 [==============================] - 0s 115us/sample - loss: 2.6465 - acc: 0.5721 - val_loss: 2.2389 - val_acc: 0.4348\n",
            "Epoch 17/50\n",
            "201/201 [==============================] - 0s 112us/sample - loss: 2.4824 - acc: 0.6169 - val_loss: 2.0820 - val_acc: 0.5652\n",
            "Epoch 18/50\n",
            "201/201 [==============================] - 0s 105us/sample - loss: 2.3486 - acc: 0.6169 - val_loss: 1.9375 - val_acc: 0.5652\n",
            "Epoch 19/50\n",
            "201/201 [==============================] - 0s 105us/sample - loss: 2.2155 - acc: 0.6418 - val_loss: 1.8330 - val_acc: 0.5652\n",
            "Epoch 20/50\n",
            "201/201 [==============================] - 0s 138us/sample - loss: 2.1092 - acc: 0.6866 - val_loss: 1.7226 - val_acc: 0.5217\n",
            "Epoch 21/50\n",
            "201/201 [==============================] - 0s 111us/sample - loss: 2.0054 - acc: 0.6965 - val_loss: 1.5944 - val_acc: 0.5652\n",
            "Epoch 22/50\n",
            "201/201 [==============================] - 0s 110us/sample - loss: 1.9224 - acc: 0.7065 - val_loss: 1.4603 - val_acc: 0.5652\n",
            "Epoch 23/50\n",
            "201/201 [==============================] - 0s 107us/sample - loss: 1.8325 - acc: 0.7015 - val_loss: 1.3669 - val_acc: 0.6522\n",
            "Epoch 24/50\n",
            "201/201 [==============================] - 0s 109us/sample - loss: 1.7607 - acc: 0.7015 - val_loss: 1.2761 - val_acc: 0.6957\n",
            "Epoch 25/50\n",
            "201/201 [==============================] - 0s 112us/sample - loss: 1.6960 - acc: 0.7114 - val_loss: 1.2227 - val_acc: 0.6957\n",
            "Epoch 26/50\n",
            "201/201 [==============================] - 0s 132us/sample - loss: 1.6282 - acc: 0.7264 - val_loss: 1.1682 - val_acc: 0.6957\n",
            "Epoch 27/50\n",
            "201/201 [==============================] - 0s 113us/sample - loss: 1.5745 - acc: 0.7363 - val_loss: 1.1171 - val_acc: 0.6957\n",
            "Epoch 28/50\n",
            "201/201 [==============================] - 0s 116us/sample - loss: 1.5353 - acc: 0.7313 - val_loss: 1.0509 - val_acc: 0.6957\n",
            "Epoch 29/50\n",
            "201/201 [==============================] - 0s 122us/sample - loss: 1.4878 - acc: 0.7313 - val_loss: 1.0219 - val_acc: 0.7391\n",
            "Epoch 30/50\n",
            "201/201 [==============================] - 0s 102us/sample - loss: 1.4500 - acc: 0.7363 - val_loss: 0.9964 - val_acc: 0.7826\n",
            "Epoch 31/50\n",
            "201/201 [==============================] - 0s 123us/sample - loss: 1.4193 - acc: 0.7313 - val_loss: 0.9697 - val_acc: 0.7826\n",
            "Epoch 32/50\n",
            "201/201 [==============================] - 0s 130us/sample - loss: 1.3922 - acc: 0.7313 - val_loss: 0.9318 - val_acc: 0.7826\n",
            "Epoch 33/50\n",
            "201/201 [==============================] - 0s 131us/sample - loss: 1.3560 - acc: 0.7363 - val_loss: 0.9244 - val_acc: 0.7826\n",
            "Epoch 34/50\n",
            "201/201 [==============================] - 0s 116us/sample - loss: 1.3270 - acc: 0.7363 - val_loss: 0.8913 - val_acc: 0.8261\n",
            "Epoch 35/50\n",
            "201/201 [==============================] - 0s 104us/sample - loss: 1.2997 - acc: 0.7363 - val_loss: 0.8650 - val_acc: 0.8261\n",
            "Epoch 36/50\n",
            "201/201 [==============================] - 0s 114us/sample - loss: 1.2703 - acc: 0.7413 - val_loss: 0.8283 - val_acc: 0.8261\n",
            "Epoch 37/50\n",
            "201/201 [==============================] - 0s 143us/sample - loss: 1.2415 - acc: 0.7413 - val_loss: 0.8013 - val_acc: 0.8261\n",
            "Epoch 38/50\n",
            "201/201 [==============================] - 0s 183us/sample - loss: 1.2173 - acc: 0.7413 - val_loss: 0.7640 - val_acc: 0.8261\n",
            "Epoch 39/50\n",
            "201/201 [==============================] - 0s 110us/sample - loss: 1.1898 - acc: 0.7562 - val_loss: 0.7507 - val_acc: 0.8261\n",
            "Epoch 40/50\n",
            "201/201 [==============================] - 0s 134us/sample - loss: 1.1624 - acc: 0.7562 - val_loss: 0.7077 - val_acc: 0.8261\n",
            "Epoch 41/50\n",
            "201/201 [==============================] - 0s 122us/sample - loss: 1.1365 - acc: 0.7562 - val_loss: 0.6713 - val_acc: 0.8261\n",
            "Epoch 42/50\n",
            "201/201 [==============================] - 0s 109us/sample - loss: 1.1008 - acc: 0.7463 - val_loss: 0.6255 - val_acc: 0.8261\n",
            "Epoch 43/50\n",
            "201/201 [==============================] - 0s 114us/sample - loss: 1.0745 - acc: 0.7512 - val_loss: 0.5879 - val_acc: 0.8261\n",
            "Epoch 44/50\n",
            "201/201 [==============================] - 0s 112us/sample - loss: 1.0475 - acc: 0.7413 - val_loss: 0.5635 - val_acc: 0.8261\n",
            "Epoch 45/50\n",
            "201/201 [==============================] - 0s 128us/sample - loss: 1.0258 - acc: 0.7313 - val_loss: 0.5337 - val_acc: 0.8696\n",
            "Epoch 46/50\n",
            "201/201 [==============================] - 0s 112us/sample - loss: 0.9999 - acc: 0.7413 - val_loss: 0.5115 - val_acc: 0.8696\n",
            "Epoch 47/50\n",
            "201/201 [==============================] - 0s 135us/sample - loss: 0.9838 - acc: 0.7463 - val_loss: 0.5004 - val_acc: 0.9130\n",
            "Epoch 48/50\n",
            "201/201 [==============================] - 0s 138us/sample - loss: 0.9622 - acc: 0.7413 - val_loss: 0.4882 - val_acc: 0.9130\n",
            "Epoch 49/50\n",
            "201/201 [==============================] - 0s 114us/sample - loss: 0.9457 - acc: 0.7413 - val_loss: 0.4792 - val_acc: 0.9130\n",
            "Epoch 50/50\n",
            "201/201 [==============================] - 0s 117us/sample - loss: 0.9269 - acc: 0.7463 - val_loss: 0.4722 - val_acc: 0.9130\n"
          ],
          "name": "stdout"
        },
        {
          "output_type": "execute_result",
          "data": {
            "text/plain": [
              "<tensorflow.python.keras.callbacks.History at 0x7f1b19fad780>"
            ]
          },
          "metadata": {
            "tags": []
          },
          "execution_count": 23
        }
      ]
    },
    {
      "cell_type": "code",
      "metadata": {
        "id": "sfXw5CKCJaFs",
        "colab_type": "code",
        "colab": {
          "base_uri": "https://localhost:8080/",
          "height": 67
        },
        "outputId": "99cf99e2-c654-4bba-f01f-858742252c71"
      },
      "source": [
        "test_loss, test_accuracy = model_MLP1.evaluate(x=X_test1, y=y_test1)\n",
        "print(test_loss, '\\n',test_accuracy)"
      ],
      "execution_count": 24,
      "outputs": [
        {
          "output_type": "stream",
          "text": [
            "86/86 [==============================] - 0s 91us/sample - loss: 0.7928 - acc: 0.7558\n",
            "0.7927878207938616 \n",
            " 0.75581396\n"
          ],
          "name": "stdout"
        }
      ]
    },
    {
      "cell_type": "code",
      "metadata": {
        "id": "3Sk4WCZEJjQk",
        "colab_type": "code",
        "colab": {
          "base_uri": "https://localhost:8080/",
          "height": 217
        },
        "outputId": "76f308b4-c17e-424d-cc40-a346696f49b0"
      },
      "source": [
        "model_MLP2 = keras.models.Sequential()\n",
        "\n",
        "model_MLP2.add(keras.layers.Dense(units=10, activation='relu', input_shape=X_train2.shape[1:]))\n",
        "\n",
        "model_MLP2.add(keras.layers.Dense(units=3, activation='softmax'))\n",
        "\n",
        "model_MLP2.summary()"
      ],
      "execution_count": 25,
      "outputs": [
        {
          "output_type": "stream",
          "text": [
            "Model: \"sequential_1\"\n",
            "_________________________________________________________________\n",
            "Layer (type)                 Output Shape              Param #   \n",
            "=================================================================\n",
            "dense_2 (Dense)              (None, 10)                70        \n",
            "_________________________________________________________________\n",
            "dense_3 (Dense)              (None, 3)                 33        \n",
            "=================================================================\n",
            "Total params: 103\n",
            "Trainable params: 103\n",
            "Non-trainable params: 0\n",
            "_________________________________________________________________\n"
          ],
          "name": "stdout"
        }
      ]
    },
    {
      "cell_type": "code",
      "metadata": {
        "id": "ahiGKBtMJnZp",
        "colab_type": "code",
        "colab": {
          "base_uri": "https://localhost:8080/",
          "height": 1000
        },
        "outputId": "4275128e-75a0-43ce-c576-995d253427ff"
      },
      "source": [
        "model_MLP2.compile(loss='sparse_categorical_crossentropy', optimizer='adam',metrics=['accuracy'])\n",
        "model_MLP2.fit(x=X_train2, y=y_train2, validation_split=0.1,epochs=50, batch_size=16)"
      ],
      "execution_count": 26,
      "outputs": [
        {
          "output_type": "stream",
          "text": [
            "Train on 201 samples, validate on 23 samples\n",
            "Epoch 1/50\n",
            "201/201 [==============================] - 0s 568us/sample - loss: 50.5097 - acc: 0.3284 - val_loss: 48.1257 - val_acc: 0.2609\n",
            "Epoch 2/50\n",
            "201/201 [==============================] - 0s 124us/sample - loss: 42.1976 - acc: 0.3284 - val_loss: 39.9946 - val_acc: 0.2609\n",
            "Epoch 3/50\n",
            "201/201 [==============================] - 0s 111us/sample - loss: 34.7694 - acc: 0.3284 - val_loss: 32.3790 - val_acc: 0.2609\n",
            "Epoch 4/50\n",
            "201/201 [==============================] - 0s 123us/sample - loss: 27.8951 - acc: 0.3284 - val_loss: 25.3233 - val_acc: 0.2609\n",
            "Epoch 5/50\n",
            "201/201 [==============================] - 0s 118us/sample - loss: 21.4364 - acc: 0.3284 - val_loss: 18.7366 - val_acc: 0.2609\n",
            "Epoch 6/50\n",
            "201/201 [==============================] - 0s 107us/sample - loss: 15.4909 - acc: 0.3284 - val_loss: 12.2708 - val_acc: 0.2609\n",
            "Epoch 7/50\n",
            "201/201 [==============================] - 0s 112us/sample - loss: 9.8196 - acc: 0.3085 - val_loss: 7.0450 - val_acc: 0.1739\n",
            "Epoch 8/50\n",
            "201/201 [==============================] - 0s 132us/sample - loss: 5.8229 - acc: 0.2687 - val_loss: 4.3853 - val_acc: 0.1739\n",
            "Epoch 9/50\n",
            "201/201 [==============================] - 0s 115us/sample - loss: 3.6494 - acc: 0.2985 - val_loss: 3.3477 - val_acc: 0.3043\n",
            "Epoch 10/50\n",
            "201/201 [==============================] - 0s 120us/sample - loss: 2.4621 - acc: 0.4776 - val_loss: 3.1133 - val_acc: 0.2174\n",
            "Epoch 11/50\n",
            "201/201 [==============================] - 0s 114us/sample - loss: 2.0954 - acc: 0.5771 - val_loss: 3.0882 - val_acc: 0.1739\n",
            "Epoch 12/50\n",
            "201/201 [==============================] - 0s 106us/sample - loss: 1.8370 - acc: 0.6318 - val_loss: 2.8963 - val_acc: 0.2174\n",
            "Epoch 13/50\n",
            "201/201 [==============================] - 0s 118us/sample - loss: 1.6527 - acc: 0.6667 - val_loss: 2.7837 - val_acc: 0.3043\n",
            "Epoch 14/50\n",
            "201/201 [==============================] - 0s 111us/sample - loss: 1.5198 - acc: 0.6766 - val_loss: 2.6896 - val_acc: 0.3913\n",
            "Epoch 15/50\n",
            "201/201 [==============================] - 0s 106us/sample - loss: 1.4162 - acc: 0.6766 - val_loss: 2.6287 - val_acc: 0.3913\n",
            "Epoch 16/50\n",
            "201/201 [==============================] - 0s 113us/sample - loss: 1.3314 - acc: 0.6915 - val_loss: 2.5979 - val_acc: 0.3913\n",
            "Epoch 17/50\n",
            "201/201 [==============================] - 0s 125us/sample - loss: 1.2533 - acc: 0.6965 - val_loss: 2.5271 - val_acc: 0.3913\n",
            "Epoch 18/50\n",
            "201/201 [==============================] - 0s 123us/sample - loss: 1.1949 - acc: 0.6965 - val_loss: 2.4817 - val_acc: 0.3913\n",
            "Epoch 19/50\n",
            "201/201 [==============================] - 0s 108us/sample - loss: 1.1274 - acc: 0.6915 - val_loss: 2.4288 - val_acc: 0.4348\n",
            "Epoch 20/50\n",
            "201/201 [==============================] - 0s 116us/sample - loss: 1.0613 - acc: 0.6915 - val_loss: 2.3585 - val_acc: 0.4348\n",
            "Epoch 21/50\n",
            "201/201 [==============================] - 0s 114us/sample - loss: 1.0171 - acc: 0.6965 - val_loss: 2.3212 - val_acc: 0.4348\n",
            "Epoch 22/50\n",
            "201/201 [==============================] - 0s 122us/sample - loss: 0.9649 - acc: 0.7015 - val_loss: 2.2664 - val_acc: 0.4783\n",
            "Epoch 23/50\n",
            "201/201 [==============================] - 0s 111us/sample - loss: 0.9229 - acc: 0.7164 - val_loss: 2.2651 - val_acc: 0.4348\n",
            "Epoch 24/50\n",
            "201/201 [==============================] - 0s 117us/sample - loss: 0.8733 - acc: 0.7264 - val_loss: 2.1746 - val_acc: 0.4783\n",
            "Epoch 25/50\n",
            "201/201 [==============================] - 0s 105us/sample - loss: 0.8270 - acc: 0.7065 - val_loss: 2.1301 - val_acc: 0.4783\n",
            "Epoch 26/50\n",
            "201/201 [==============================] - 0s 105us/sample - loss: 0.7919 - acc: 0.7313 - val_loss: 2.0783 - val_acc: 0.4783\n",
            "Epoch 27/50\n",
            "201/201 [==============================] - 0s 105us/sample - loss: 0.7529 - acc: 0.7114 - val_loss: 2.0182 - val_acc: 0.4783\n",
            "Epoch 28/50\n",
            "201/201 [==============================] - 0s 107us/sample - loss: 0.7189 - acc: 0.7463 - val_loss: 1.9590 - val_acc: 0.4783\n",
            "Epoch 29/50\n",
            "201/201 [==============================] - 0s 149us/sample - loss: 0.6859 - acc: 0.7612 - val_loss: 1.9267 - val_acc: 0.4783\n",
            "Epoch 30/50\n",
            "201/201 [==============================] - 0s 109us/sample - loss: 0.6541 - acc: 0.7612 - val_loss: 1.8918 - val_acc: 0.4348\n",
            "Epoch 31/50\n",
            "201/201 [==============================] - 0s 99us/sample - loss: 0.6342 - acc: 0.7562 - val_loss: 1.8209 - val_acc: 0.4348\n",
            "Epoch 32/50\n",
            "201/201 [==============================] - 0s 117us/sample - loss: 0.6240 - acc: 0.7562 - val_loss: 1.8218 - val_acc: 0.4348\n",
            "Epoch 33/50\n",
            "201/201 [==============================] - 0s 113us/sample - loss: 0.5840 - acc: 0.7612 - val_loss: 1.7192 - val_acc: 0.4783\n",
            "Epoch 34/50\n",
            "201/201 [==============================] - 0s 127us/sample - loss: 0.5614 - acc: 0.7711 - val_loss: 1.6992 - val_acc: 0.4348\n",
            "Epoch 35/50\n",
            "201/201 [==============================] - 0s 127us/sample - loss: 0.5487 - acc: 0.7711 - val_loss: 1.6388 - val_acc: 0.4348\n",
            "Epoch 36/50\n",
            "201/201 [==============================] - 0s 111us/sample - loss: 0.5296 - acc: 0.7811 - val_loss: 1.6276 - val_acc: 0.4348\n",
            "Epoch 37/50\n",
            "201/201 [==============================] - 0s 113us/sample - loss: 0.5185 - acc: 0.7861 - val_loss: 1.5584 - val_acc: 0.4348\n",
            "Epoch 38/50\n",
            "201/201 [==============================] - 0s 116us/sample - loss: 0.5012 - acc: 0.7910 - val_loss: 1.5816 - val_acc: 0.4348\n",
            "Epoch 39/50\n",
            "201/201 [==============================] - 0s 120us/sample - loss: 0.5001 - acc: 0.7861 - val_loss: 1.5349 - val_acc: 0.4348\n",
            "Epoch 40/50\n",
            "201/201 [==============================] - 0s 117us/sample - loss: 0.4943 - acc: 0.7910 - val_loss: 1.4704 - val_acc: 0.4783\n",
            "Epoch 41/50\n",
            "201/201 [==============================] - 0s 123us/sample - loss: 0.4742 - acc: 0.7861 - val_loss: 1.4503 - val_acc: 0.4348\n",
            "Epoch 42/50\n",
            "201/201 [==============================] - 0s 107us/sample - loss: 0.4674 - acc: 0.7910 - val_loss: 1.4261 - val_acc: 0.4783\n",
            "Epoch 43/50\n",
            "201/201 [==============================] - 0s 119us/sample - loss: 0.4605 - acc: 0.7960 - val_loss: 1.4141 - val_acc: 0.4783\n",
            "Epoch 44/50\n",
            "201/201 [==============================] - 0s 107us/sample - loss: 0.4602 - acc: 0.8010 - val_loss: 1.3725 - val_acc: 0.4783\n",
            "Epoch 45/50\n",
            "201/201 [==============================] - 0s 105us/sample - loss: 0.4477 - acc: 0.7910 - val_loss: 1.4064 - val_acc: 0.5652\n",
            "Epoch 46/50\n",
            "201/201 [==============================] - 0s 102us/sample - loss: 0.4509 - acc: 0.8010 - val_loss: 1.3618 - val_acc: 0.4783\n",
            "Epoch 47/50\n",
            "201/201 [==============================] - 0s 110us/sample - loss: 0.4387 - acc: 0.8060 - val_loss: 1.3453 - val_acc: 0.5217\n",
            "Epoch 48/50\n",
            "201/201 [==============================] - 0s 115us/sample - loss: 0.4426 - acc: 0.7910 - val_loss: 1.2997 - val_acc: 0.5217\n",
            "Epoch 49/50\n",
            "201/201 [==============================] - 0s 104us/sample - loss: 0.4363 - acc: 0.7960 - val_loss: 1.2957 - val_acc: 0.5652\n",
            "Epoch 50/50\n",
            "201/201 [==============================] - 0s 118us/sample - loss: 0.4276 - acc: 0.8060 - val_loss: 1.3320 - val_acc: 0.5652\n"
          ],
          "name": "stdout"
        },
        {
          "output_type": "execute_result",
          "data": {
            "text/plain": [
              "<tensorflow.python.keras.callbacks.History at 0x7f1b1371c390>"
            ]
          },
          "metadata": {
            "tags": []
          },
          "execution_count": 26
        }
      ]
    },
    {
      "cell_type": "code",
      "metadata": {
        "id": "Q7UhpzSvJsYH",
        "colab_type": "code",
        "colab": {
          "base_uri": "https://localhost:8080/",
          "height": 50
        },
        "outputId": "64a2f0fb-c9d2-4e3d-dea6-d8ffdcd0c920"
      },
      "source": [
        "test_loss, test_accuracy = model_MLP2.evaluate(x=X_test2, y=y_test2)\n",
        "print(test_loss, test_accuracy)"
      ],
      "execution_count": 27,
      "outputs": [
        {
          "output_type": "stream",
          "text": [
            "86/86 [==============================] - 0s 142us/sample - loss: 1.5678 - acc: 0.7791\n",
            "1.5678281201872715 0.7790698\n"
          ],
          "name": "stdout"
        }
      ]
    },
    {
      "cell_type": "code",
      "metadata": {
        "id": "scgIJR7iJwS8",
        "colab_type": "code",
        "colab": {}
      },
      "source": [
        ""
      ],
      "execution_count": 0,
      "outputs": []
    }
  ]
}