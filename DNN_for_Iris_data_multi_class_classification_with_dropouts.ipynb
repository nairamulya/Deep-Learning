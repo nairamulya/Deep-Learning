{
  "nbformat": 4,
  "nbformat_minor": 0,
  "metadata": {
    "colab": {
      "name": "DNN for Iris data multi-class classification with dropouts.ipynb",
      "provenance": [],
      "authorship_tag": "ABX9TyM37POPlyljIjDp73uaqDlr",
      "include_colab_link": true
    },
    "kernelspec": {
      "name": "python3",
      "display_name": "Python 3"
    }
  },
  "cells": [
    {
      "cell_type": "markdown",
      "metadata": {
        "id": "view-in-github",
        "colab_type": "text"
      },
      "source": [
        "<a href=\"https://colab.research.google.com/github/nairamulya/Deep-Learning/blob/master/DNN_for_Iris_data_multi_class_classification_with_dropouts.ipynb\" target=\"_parent\"><img src=\"https://colab.research.google.com/assets/colab-badge.svg\" alt=\"Open In Colab\"/></a>"
      ]
    },
    {
      "cell_type": "code",
      "metadata": {
        "id": "pCPSWAInn0L_",
        "colab_type": "code",
        "colab": {}
      },
      "source": [
        "import numpy as np \n",
        "import pandas as pd \n",
        "import matplotlib.pyplot as plt\n"
      ],
      "execution_count": 0,
      "outputs": []
    },
    {
      "cell_type": "code",
      "metadata": {
        "id": "Gp47dPTin13v",
        "colab_type": "code",
        "colab": {}
      },
      "source": [
        "from sklearn.datasets import load_iris"
      ],
      "execution_count": 0,
      "outputs": []
    },
    {
      "cell_type": "code",
      "metadata": {
        "id": "lvARDzvDn3pf",
        "colab_type": "code",
        "outputId": "fdebf3c5-a51f-45f1-87ed-53cb26fe103f",
        "colab": {
          "base_uri": "https://localhost:8080/",
          "height": 62
        }
      },
      "source": [
        "import tensorflow as tf \n",
        "from tensorflow import keras\n"
      ],
      "execution_count": 0,
      "outputs": [
        {
          "output_type": "display_data",
          "data": {
            "text/html": [
              "<p style=\"color: red;\">\n",
              "The default version of TensorFlow in Colab will soon switch to TensorFlow 2.x.<br>\n",
              "We recommend you <a href=\"https://www.tensorflow.org/guide/migrate\" target=\"_blank\">upgrade</a> now \n",
              "or ensure your notebook will continue to use TensorFlow 1.x via the <code>%tensorflow_version 1.x</code> magic:\n",
              "<a href=\"https://colab.research.google.com/notebooks/tensorflow_version.ipynb\" target=\"_blank\">more info</a>.</p>\n"
            ],
            "text/plain": [
              "<IPython.core.display.HTML object>"
            ]
          },
          "metadata": {
            "tags": []
          }
        }
      ]
    },
    {
      "cell_type": "code",
      "metadata": {
        "id": "zW8c9ETxn5at",
        "colab_type": "code",
        "colab": {}
      },
      "source": [
        "tf.set_random_seed(42)\n"
      ],
      "execution_count": 0,
      "outputs": []
    },
    {
      "cell_type": "code",
      "metadata": {
        "id": "UC8PnEFTn7no",
        "colab_type": "code",
        "colab": {}
      },
      "source": [
        "np.random.seed(42)\n"
      ],
      "execution_count": 0,
      "outputs": []
    },
    {
      "cell_type": "code",
      "metadata": {
        "id": "yzg8Umzln-00",
        "colab_type": "code",
        "colab": {}
      },
      "source": [
        "irisData = load_iris()\n"
      ],
      "execution_count": 0,
      "outputs": []
    },
    {
      "cell_type": "code",
      "metadata": {
        "id": "Nf2hiaPMoB7u",
        "colab_type": "code",
        "colab": {}
      },
      "source": [
        "X = irisData.data \n",
        "y = irisData.target\n"
      ],
      "execution_count": 0,
      "outputs": []
    },
    {
      "cell_type": "code",
      "metadata": {
        "id": "Qc_0dIH4oEDE",
        "colab_type": "code",
        "colab": {}
      },
      "source": [
        "from sklearn.model_selection import train_test_split\n",
        "X_train, X_test, y_train, y_test = train_test_split(X, y, test_size=0.2,stratify=y, random_state=42)\n"
      ],
      "execution_count": 0,
      "outputs": []
    },
    {
      "cell_type": "code",
      "metadata": {
        "id": "GfsmQyh4oGLN",
        "colab_type": "code",
        "colab": {}
      },
      "source": [
        "from sklearn.preprocessing import StandardScaler \n",
        "sc = StandardScaler()"
      ],
      "execution_count": 0,
      "outputs": []
    },
    {
      "cell_type": "code",
      "metadata": {
        "id": "8Z2n2IIooKF2",
        "colab_type": "code",
        "outputId": "e92cddee-8381-46bd-d839-d3f3487b7a3e",
        "colab": {
          "base_uri": "https://localhost:8080/",
          "height": 33
        }
      },
      "source": [
        "sc.fit(X_train)\n"
      ],
      "execution_count": 0,
      "outputs": [
        {
          "output_type": "execute_result",
          "data": {
            "text/plain": [
              "StandardScaler(copy=True, with_mean=True, with_std=True)"
            ]
          },
          "metadata": {
            "tags": []
          },
          "execution_count": 10
        }
      ]
    },
    {
      "cell_type": "code",
      "metadata": {
        "id": "AXEuAFzkoMLq",
        "colab_type": "code",
        "outputId": "718a1773-4c34-47ea-adf0-87020c1a13f3",
        "colab": {
          "base_uri": "https://localhost:8080/",
          "height": 87
        }
      },
      "source": [
        "X_train_std = sc.transform(X_train)\n",
        "X_test_std = sc.transform(X_test)\n",
        "\n",
        "model_DNN = keras.models.Sequential()\n",
        "\n",
        "model_DNN.add(keras.layers.Dense(units=12, activation='relu', input_shape= X_train.shape[1:]))\n",
        "\n",
        "model_DNN.add(keras.layers.Dropout(0.1))\n",
        "\n",
        "model_DNN.add(keras.layers.Dense(units=10, activation='relu'))\n",
        "\n",
        "model_DNN.add(keras.layers.Dropout(0.1))\n",
        "\n",
        "model_DNN.add(keras.layers.Dense(units= 8, activation='relu'))\n",
        "\n",
        "model_DNN.add(keras.layers.Dense(units=6, activation='relu'))\n"
      ],
      "execution_count": 0,
      "outputs": [
        {
          "output_type": "stream",
          "text": [
            "WARNING:tensorflow:From /usr/local/lib/python3.6/dist-packages/tensorflow_core/python/ops/resource_variable_ops.py:1630: calling BaseResourceVariable.__init__ (from tensorflow.python.ops.resource_variable_ops) with constraint is deprecated and will be removed in a future version.\n",
            "Instructions for updating:\n",
            "If using Keras pass *_constraint arguments to layers.\n"
          ],
          "name": "stdout"
        }
      ]
    },
    {
      "cell_type": "code",
      "metadata": {
        "id": "I3wbs_UQoOjj",
        "colab_type": "code",
        "colab": {}
      },
      "source": [
        "model_DNN.add(keras.layers.Dense(units=3, activation='sigmoid'))"
      ],
      "execution_count": 0,
      "outputs": []
    },
    {
      "cell_type": "code",
      "metadata": {
        "id": "R79upRdDoQ45",
        "colab_type": "code",
        "outputId": "3781e75a-12ea-4571-dae8-a50f7001bc0a",
        "colab": {
          "base_uri": "https://localhost:8080/",
          "height": 385
        }
      },
      "source": [
        "model_DNN.summary()"
      ],
      "execution_count": 0,
      "outputs": [
        {
          "output_type": "stream",
          "text": [
            "Model: \"sequential\"\n",
            "_________________________________________________________________\n",
            "Layer (type)                 Output Shape              Param #   \n",
            "=================================================================\n",
            "dense (Dense)                (None, 12)                60        \n",
            "_________________________________________________________________\n",
            "dropout (Dropout)            (None, 12)                0         \n",
            "_________________________________________________________________\n",
            "dense_1 (Dense)              (None, 10)                130       \n",
            "_________________________________________________________________\n",
            "dropout_1 (Dropout)          (None, 10)                0         \n",
            "_________________________________________________________________\n",
            "dense_2 (Dense)              (None, 8)                 88        \n",
            "_________________________________________________________________\n",
            "dense_3 (Dense)              (None, 6)                 54        \n",
            "_________________________________________________________________\n",
            "dense_4 (Dense)              (None, 3)                 21        \n",
            "=================================================================\n",
            "Total params: 353\n",
            "Trainable params: 353\n",
            "Non-trainable params: 0\n",
            "_________________________________________________________________\n"
          ],
          "name": "stdout"
        }
      ]
    },
    {
      "cell_type": "code",
      "metadata": {
        "id": "fOHWEjD8oTFX",
        "colab_type": "code",
        "colab": {}
      },
      "source": [
        "model_DNN.compile(loss='sparse_categorical_crossentropy',optimizer='adam', metrics=['accuracy'])\n"
      ],
      "execution_count": 0,
      "outputs": []
    },
    {
      "cell_type": "code",
      "metadata": {
        "id": "61gAWJcuoVer",
        "colab_type": "code",
        "outputId": "aeafdfb5-d99e-43bb-c556-98a0427243cb",
        "colab": {
          "base_uri": "https://localhost:8080/",
          "height": 1000
        }
      },
      "source": [
        "model_DNN.fit(x=X_train_std, y=y_train, validation_split=0.1, epochs=50, batch_size=16)\n",
        "test_loss, test_accuracy = model_DNN.evaluate(x=X_test_std, y=y_test)\n"
      ],
      "execution_count": 0,
      "outputs": [
        {
          "output_type": "stream",
          "text": [
            "WARNING:tensorflow:From /usr/local/lib/python3.6/dist-packages/tensorflow_core/python/ops/math_grad.py:1424: where (from tensorflow.python.ops.array_ops) is deprecated and will be removed in a future version.\n",
            "Instructions for updating:\n",
            "Use tf.where in 2.0, which has the same broadcast rule as np.where\n",
            "Train on 108 samples, validate on 12 samples\n",
            "Epoch 1/50\n",
            "108/108 [==============================] - 0s 3ms/sample - loss: 1.0943 - acc: 0.3519 - val_loss: 1.1124 - val_acc: 0.0833\n",
            "Epoch 2/50\n",
            "108/108 [==============================] - 0s 183us/sample - loss: 1.0860 - acc: 0.3519 - val_loss: 1.1052 - val_acc: 0.0833\n",
            "Epoch 3/50\n",
            "108/108 [==============================] - 0s 150us/sample - loss: 1.0728 - acc: 0.3611 - val_loss: 1.0986 - val_acc: 0.0833\n",
            "Epoch 4/50\n",
            "108/108 [==============================] - 0s 146us/sample - loss: 1.0641 - acc: 0.3611 - val_loss: 1.0928 - val_acc: 0.0833\n",
            "Epoch 5/50\n",
            "108/108 [==============================] - 0s 167us/sample - loss: 1.0498 - acc: 0.3519 - val_loss: 1.0864 - val_acc: 0.0833\n",
            "Epoch 6/50\n",
            "108/108 [==============================] - 0s 139us/sample - loss: 1.0378 - acc: 0.3519 - val_loss: 1.0799 - val_acc: 0.0833\n",
            "Epoch 7/50\n",
            "108/108 [==============================] - 0s 181us/sample - loss: 1.0272 - acc: 0.3981 - val_loss: 1.0740 - val_acc: 0.1667\n",
            "Epoch 8/50\n",
            "108/108 [==============================] - 0s 143us/sample - loss: 1.0106 - acc: 0.4167 - val_loss: 1.0686 - val_acc: 0.1667\n",
            "Epoch 9/50\n",
            "108/108 [==============================] - 0s 142us/sample - loss: 1.0015 - acc: 0.4259 - val_loss: 1.0612 - val_acc: 0.2500\n",
            "Epoch 10/50\n",
            "108/108 [==============================] - 0s 141us/sample - loss: 0.9999 - acc: 0.4537 - val_loss: 1.0539 - val_acc: 0.2500\n",
            "Epoch 11/50\n",
            "108/108 [==============================] - 0s 164us/sample - loss: 0.9612 - acc: 0.5000 - val_loss: 1.0458 - val_acc: 0.5000\n",
            "Epoch 12/50\n",
            "108/108 [==============================] - 0s 142us/sample - loss: 0.9576 - acc: 0.5370 - val_loss: 1.0370 - val_acc: 0.5000\n",
            "Epoch 13/50\n",
            "108/108 [==============================] - 0s 152us/sample - loss: 0.9541 - acc: 0.5833 - val_loss: 1.0278 - val_acc: 0.5000\n",
            "Epoch 14/50\n",
            "108/108 [==============================] - 0s 152us/sample - loss: 0.9323 - acc: 0.6111 - val_loss: 1.0178 - val_acc: 0.5000\n",
            "Epoch 15/50\n",
            "108/108 [==============================] - 0s 141us/sample - loss: 0.9204 - acc: 0.5926 - val_loss: 1.0081 - val_acc: 0.5000\n",
            "Epoch 16/50\n",
            "108/108 [==============================] - 0s 165us/sample - loss: 0.9118 - acc: 0.6296 - val_loss: 0.9985 - val_acc: 0.5000\n",
            "Epoch 17/50\n",
            "108/108 [==============================] - 0s 183us/sample - loss: 0.9019 - acc: 0.6389 - val_loss: 0.9878 - val_acc: 0.5000\n",
            "Epoch 18/50\n",
            "108/108 [==============================] - 0s 143us/sample - loss: 0.8899 - acc: 0.6296 - val_loss: 0.9777 - val_acc: 0.5000\n",
            "Epoch 19/50\n",
            "108/108 [==============================] - 0s 150us/sample - loss: 0.8799 - acc: 0.6111 - val_loss: 0.9674 - val_acc: 0.5833\n",
            "Epoch 20/50\n",
            "108/108 [==============================] - 0s 158us/sample - loss: 0.8703 - acc: 0.6389 - val_loss: 0.9572 - val_acc: 0.5833\n",
            "Epoch 21/50\n",
            "108/108 [==============================] - 0s 147us/sample - loss: 0.8620 - acc: 0.6296 - val_loss: 0.9478 - val_acc: 0.5833\n",
            "Epoch 22/50\n",
            "108/108 [==============================] - 0s 157us/sample - loss: 0.8499 - acc: 0.6481 - val_loss: 0.9387 - val_acc: 0.5833\n",
            "Epoch 23/50\n",
            "108/108 [==============================] - 0s 192us/sample - loss: 0.8397 - acc: 0.6481 - val_loss: 0.9291 - val_acc: 0.5833\n",
            "Epoch 24/50\n",
            "108/108 [==============================] - 0s 155us/sample - loss: 0.8294 - acc: 0.6574 - val_loss: 0.9200 - val_acc: 0.5833\n",
            "Epoch 25/50\n",
            "108/108 [==============================] - 0s 199us/sample - loss: 0.8269 - acc: 0.6574 - val_loss: 0.9116 - val_acc: 0.5833\n",
            "Epoch 26/50\n",
            "108/108 [==============================] - 0s 149us/sample - loss: 0.8142 - acc: 0.6667 - val_loss: 0.9023 - val_acc: 0.5833\n",
            "Epoch 27/50\n",
            "108/108 [==============================] - 0s 235us/sample - loss: 0.8102 - acc: 0.6574 - val_loss: 0.8930 - val_acc: 0.5833\n",
            "Epoch 28/50\n",
            "108/108 [==============================] - 0s 155us/sample - loss: 0.7998 - acc: 0.6667 - val_loss: 0.8846 - val_acc: 0.5833\n",
            "Epoch 29/50\n",
            "108/108 [==============================] - 0s 138us/sample - loss: 0.7958 - acc: 0.6759 - val_loss: 0.8752 - val_acc: 0.5833\n",
            "Epoch 30/50\n",
            "108/108 [==============================] - 0s 144us/sample - loss: 0.7866 - acc: 0.6667 - val_loss: 0.8652 - val_acc: 0.5833\n",
            "Epoch 31/50\n",
            "108/108 [==============================] - 0s 153us/sample - loss: 0.7829 - acc: 0.6759 - val_loss: 0.8539 - val_acc: 0.5833\n",
            "Epoch 32/50\n",
            "108/108 [==============================] - 0s 179us/sample - loss: 0.7747 - acc: 0.6759 - val_loss: 0.8428 - val_acc: 0.5833\n",
            "Epoch 33/50\n",
            "108/108 [==============================] - 0s 163us/sample - loss: 0.7716 - acc: 0.6759 - val_loss: 0.8319 - val_acc: 0.5833\n",
            "Epoch 34/50\n",
            "108/108 [==============================] - 0s 158us/sample - loss: 0.7658 - acc: 0.6759 - val_loss: 0.8208 - val_acc: 0.5833\n",
            "Epoch 35/50\n",
            "108/108 [==============================] - 0s 163us/sample - loss: 0.7486 - acc: 0.6759 - val_loss: 0.8078 - val_acc: 0.5833\n",
            "Epoch 36/50\n",
            "108/108 [==============================] - 0s 177us/sample - loss: 0.7366 - acc: 0.6759 - val_loss: 0.7940 - val_acc: 0.5833\n",
            "Epoch 37/50\n",
            "108/108 [==============================] - 0s 177us/sample - loss: 0.7297 - acc: 0.6759 - val_loss: 0.7795 - val_acc: 0.5833\n",
            "Epoch 38/50\n",
            "108/108 [==============================] - 0s 148us/sample - loss: 0.7264 - acc: 0.6667 - val_loss: 0.7644 - val_acc: 0.5833\n",
            "Epoch 39/50\n",
            "108/108 [==============================] - 0s 153us/sample - loss: 0.7104 - acc: 0.6759 - val_loss: 0.7479 - val_acc: 0.5833\n",
            "Epoch 40/50\n",
            "108/108 [==============================] - 0s 226us/sample - loss: 0.7017 - acc: 0.6667 - val_loss: 0.7314 - val_acc: 0.5833\n",
            "Epoch 41/50\n",
            "108/108 [==============================] - 0s 195us/sample - loss: 0.6822 - acc: 0.6759 - val_loss: 0.7138 - val_acc: 0.5833\n",
            "Epoch 42/50\n",
            "108/108 [==============================] - 0s 162us/sample - loss: 0.6751 - acc: 0.6759 - val_loss: 0.6962 - val_acc: 0.5833\n",
            "Epoch 43/50\n",
            "108/108 [==============================] - 0s 191us/sample - loss: 0.6739 - acc: 0.6759 - val_loss: 0.6769 - val_acc: 0.5833\n",
            "Epoch 44/50\n",
            "108/108 [==============================] - 0s 142us/sample - loss: 0.6578 - acc: 0.6759 - val_loss: 0.6573 - val_acc: 0.5833\n",
            "Epoch 45/50\n",
            "108/108 [==============================] - 0s 161us/sample - loss: 0.6422 - acc: 0.6759 - val_loss: 0.6370 - val_acc: 0.5833\n",
            "Epoch 46/50\n",
            "108/108 [==============================] - 0s 158us/sample - loss: 0.6389 - acc: 0.6759 - val_loss: 0.6172 - val_acc: 0.5833\n",
            "Epoch 47/50\n",
            "108/108 [==============================] - 0s 169us/sample - loss: 0.6153 - acc: 0.6759 - val_loss: 0.5981 - val_acc: 0.5833\n",
            "Epoch 48/50\n",
            "108/108 [==============================] - 0s 172us/sample - loss: 0.6145 - acc: 0.6759 - val_loss: 0.5781 - val_acc: 0.5833\n",
            "Epoch 49/50\n",
            "108/108 [==============================] - 0s 169us/sample - loss: 0.5943 - acc: 0.6759 - val_loss: 0.5588 - val_acc: 0.5833\n",
            "Epoch 50/50\n",
            "108/108 [==============================] - 0s 157us/sample - loss: 0.5932 - acc: 0.6667 - val_loss: 0.5400 - val_acc: 0.5833\n",
            "30/30 [==============================] - 0s 36us/sample - loss: 0.5598 - acc: 0.6667\n"
          ],
          "name": "stdout"
        }
      ]
    },
    {
      "cell_type": "code",
      "metadata": {
        "id": "mmew56nYoXRZ",
        "colab_type": "code",
        "outputId": "5f4bb490-2d06-4ef5-d3d6-7f3571a72420",
        "colab": {
          "base_uri": "https://localhost:8080/",
          "height": 33
        }
      },
      "source": [
        "print(test_loss, test_accuracy)"
      ],
      "execution_count": 0,
      "outputs": [
        {
          "output_type": "stream",
          "text": [
            "0.5598045587539673 0.6666667\n"
          ],
          "name": "stdout"
        }
      ]
    },
    {
      "cell_type": "code",
      "metadata": {
        "id": "jiM6AaAXogOq",
        "colab_type": "code",
        "colab": {}
      },
      "source": [
        ""
      ],
      "execution_count": 0,
      "outputs": []
    }
  ]
}