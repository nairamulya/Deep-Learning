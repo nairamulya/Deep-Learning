{
  "nbformat": 4,
  "nbformat_minor": 0,
  "metadata": {
    "colab": {
      "name": "DNN for Wine data multi-class classification with dropouts.ipynb",
      "provenance": [],
      "authorship_tag": "ABX9TyOYT8c9WTrh75JDdZy/xUtK",
      "include_colab_link": true
    },
    "kernelspec": {
      "name": "python3",
      "display_name": "Python 3"
    }
  },
  "cells": [
    {
      "cell_type": "markdown",
      "metadata": {
        "id": "view-in-github",
        "colab_type": "text"
      },
      "source": [
        "<a href=\"https://colab.research.google.com/github/nairamulya/Deep-Learning/blob/master/DNN_for_Wine_data_multi_class_classification_with_dropouts.ipynb\" target=\"_parent\"><img src=\"https://colab.research.google.com/assets/colab-badge.svg\" alt=\"Open In Colab\"/></a>"
      ]
    },
    {
      "cell_type": "code",
      "metadata": {
        "id": "UGXBvpyQlC4B",
        "colab_type": "code",
        "colab": {}
      },
      "source": [
        "import numpy as np\n",
        "import pandas as pd \n",
        "import matplotlib.pyplot as plt"
      ],
      "execution_count": 0,
      "outputs": []
    },
    {
      "cell_type": "code",
      "metadata": {
        "id": "Z4aX37xzl7hM",
        "colab_type": "code",
        "outputId": "340d640d-dfbe-42d5-a113-3d60302c7a54",
        "colab": {
          "base_uri": "https://localhost:8080/",
          "height": 62
        }
      },
      "source": [
        "from sklearn.datasets import load_wine\n",
        "import tensorflow as tf\n",
        "from tensorflow import  keras\n"
      ],
      "execution_count": 0,
      "outputs": [
        {
          "output_type": "display_data",
          "data": {
            "text/html": [
              "<p style=\"color: red;\">\n",
              "The default version of TensorFlow in Colab will soon switch to TensorFlow 2.x.<br>\n",
              "We recommend you <a href=\"https://www.tensorflow.org/guide/migrate\" target=\"_blank\">upgrade</a> now \n",
              "or ensure your notebook will continue to use TensorFlow 1.x via the <code>%tensorflow_version 1.x</code> magic:\n",
              "<a href=\"https://colab.research.google.com/notebooks/tensorflow_version.ipynb\" target=\"_blank\">more info</a>.</p>\n"
            ],
            "text/plain": [
              "<IPython.core.display.HTML object>"
            ]
          },
          "metadata": {
            "tags": []
          }
        }
      ]
    },
    {
      "cell_type": "code",
      "metadata": {
        "id": "irK406jwl9Pt",
        "colab_type": "code",
        "colab": {}
      },
      "source": [
        "tf.set_random_seed(42)\n",
        "np.random.seed(42)"
      ],
      "execution_count": 0,
      "outputs": []
    },
    {
      "cell_type": "code",
      "metadata": {
        "id": "vmM2tMGcl--c",
        "colab_type": "code",
        "colab": {}
      },
      "source": [
        "wineData=load_wine()"
      ],
      "execution_count": 0,
      "outputs": []
    },
    {
      "cell_type": "code",
      "metadata": {
        "id": "lV3PggtEmAs_",
        "colab_type": "code",
        "colab": {}
      },
      "source": [
        "X=wineData.data\n",
        "y=wineData.target"
      ],
      "execution_count": 0,
      "outputs": []
    },
    {
      "cell_type": "code",
      "metadata": {
        "id": "ffZ1612XmCzf",
        "colab_type": "code",
        "colab": {}
      },
      "source": [
        "from sklearn.model_selection import train_test_split"
      ],
      "execution_count": 0,
      "outputs": []
    },
    {
      "cell_type": "code",
      "metadata": {
        "id": "7gN6z5wAmFia",
        "colab_type": "code",
        "colab": {}
      },
      "source": [
        "X_train,X_test,y_train,y_test=train_test_split(X,y,test_size=0.2,stratify=y,random_state=42)"
      ],
      "execution_count": 0,
      "outputs": []
    },
    {
      "cell_type": "code",
      "metadata": {
        "id": "suy5VLOKmHsV",
        "colab_type": "code",
        "colab": {}
      },
      "source": [
        "from sklearn.preprocessing import StandardScaler\n",
        "sc=StandardScaler()"
      ],
      "execution_count": 0,
      "outputs": []
    },
    {
      "cell_type": "code",
      "metadata": {
        "id": "jjC66-IGmKLu",
        "colab_type": "code",
        "outputId": "2d5dcb97-9348-441e-d5d8-d1735e2f42d6",
        "colab": {
          "base_uri": "https://localhost:8080/",
          "height": 33
        }
      },
      "source": [
        "sc.fit(X_train)\n"
      ],
      "execution_count": 0,
      "outputs": [
        {
          "output_type": "execute_result",
          "data": {
            "text/plain": [
              "StandardScaler(copy=True, with_mean=True, with_std=True)"
            ]
          },
          "metadata": {
            "tags": []
          },
          "execution_count": 9
        }
      ]
    },
    {
      "cell_type": "code",
      "metadata": {
        "id": "bOMIcdXgmMmJ",
        "colab_type": "code",
        "colab": {}
      },
      "source": [
        "X_train_std=sc.transform(X_train)\n",
        "X_test_std=sc.transform(X_test)\n"
      ],
      "execution_count": 0,
      "outputs": []
    },
    {
      "cell_type": "code",
      "metadata": {
        "id": "03AnaaA7mPek",
        "colab_type": "code",
        "colab": {}
      },
      "source": [
        "model_DNN=keras.models.Sequential()"
      ],
      "execution_count": 0,
      "outputs": []
    },
    {
      "cell_type": "code",
      "metadata": {
        "id": "NCJprrgWmU1m",
        "colab_type": "code",
        "outputId": "a431337a-9735-43db-eb2f-dd1626e2ac22",
        "colab": {
          "base_uri": "https://localhost:8080/",
          "height": 87
        }
      },
      "source": [
        "model_DNN.add(keras.layers.Dense(units=15,activation='relu',input_shape=X_train.shape[1:]))"
      ],
      "execution_count": 0,
      "outputs": [
        {
          "output_type": "stream",
          "text": [
            "WARNING:tensorflow:From /usr/local/lib/python3.6/dist-packages/tensorflow_core/python/ops/resource_variable_ops.py:1630: calling BaseResourceVariable.__init__ (from tensorflow.python.ops.resource_variable_ops) with constraint is deprecated and will be removed in a future version.\n",
            "Instructions for updating:\n",
            "If using Keras pass *_constraint arguments to layers.\n"
          ],
          "name": "stdout"
        }
      ]
    },
    {
      "cell_type": "code",
      "metadata": {
        "id": "UZ_OpbqdmXeL",
        "colab_type": "code",
        "colab": {}
      },
      "source": [
        "model_DNN.add(keras.layers.Dropout(0.1))"
      ],
      "execution_count": 0,
      "outputs": []
    },
    {
      "cell_type": "code",
      "metadata": {
        "id": "taNQ3gjImZ3Q",
        "colab_type": "code",
        "colab": {}
      },
      "source": [
        "model_DNN.add(keras.layers.Dense(units=12, activation='relu')) \n",
        "model_DNN.add(keras.layers.Dropout(0.1))\n",
        "model_DNN.add(keras.layers.Dense(units=8, activation='relu'))\n",
        "model_DNN.add(keras.layers.Dense(units=4, activation='relu'))\n"
      ],
      "execution_count": 0,
      "outputs": []
    },
    {
      "cell_type": "code",
      "metadata": {
        "id": "nOMRMHzZmb5l",
        "colab_type": "code",
        "colab": {}
      },
      "source": [
        "model_DNN.add(keras.layers.Dense(units=3, activation='softmax'))"
      ],
      "execution_count": 0,
      "outputs": []
    },
    {
      "cell_type": "code",
      "metadata": {
        "id": "Lqei8RqMmeE7",
        "colab_type": "code",
        "outputId": "df299610-cb67-476e-c59e-d673424997ea",
        "colab": {
          "base_uri": "https://localhost:8080/",
          "height": 385
        }
      },
      "source": [
        "\n",
        "model_DNN.summary()"
      ],
      "execution_count": 0,
      "outputs": [
        {
          "output_type": "stream",
          "text": [
            "Model: \"sequential\"\n",
            "_________________________________________________________________\n",
            "Layer (type)                 Output Shape              Param #   \n",
            "=================================================================\n",
            "dense (Dense)                (None, 15)                210       \n",
            "_________________________________________________________________\n",
            "dropout (Dropout)            (None, 15)                0         \n",
            "_________________________________________________________________\n",
            "dense_1 (Dense)              (None, 12)                192       \n",
            "_________________________________________________________________\n",
            "dropout_1 (Dropout)          (None, 12)                0         \n",
            "_________________________________________________________________\n",
            "dense_2 (Dense)              (None, 8)                 104       \n",
            "_________________________________________________________________\n",
            "dense_3 (Dense)              (None, 4)                 36        \n",
            "_________________________________________________________________\n",
            "dense_4 (Dense)              (None, 3)                 15        \n",
            "=================================================================\n",
            "Total params: 557\n",
            "Trainable params: 557\n",
            "Non-trainable params: 0\n",
            "_________________________________________________________________\n"
          ],
          "name": "stdout"
        }
      ]
    },
    {
      "cell_type": "code",
      "metadata": {
        "id": "5rZsBgpymhiI",
        "colab_type": "code",
        "colab": {}
      },
      "source": [
        "model_DNN.compile(loss='sparse_categorical_crossentropy',optimizer='adam', metrics=['accuracy'])\n"
      ],
      "execution_count": 0,
      "outputs": []
    },
    {
      "cell_type": "code",
      "metadata": {
        "id": "UXXhhPtQmkGu",
        "colab_type": "code",
        "outputId": "fbc08e00-d899-449c-8fd7-cf272e0e1e51",
        "colab": {
          "base_uri": "https://localhost:8080/",
          "height": 1000
        }
      },
      "source": [
        "model_DNN.fit(x=X_train_std, y=y_train, validation_split=0.1, epochs=50, batch_size=16)"
      ],
      "execution_count": 0,
      "outputs": [
        {
          "output_type": "stream",
          "text": [
            "Train on 127 samples, validate on 15 samples\n",
            "Epoch 1/50\n",
            "127/127 [==============================] - 0s 2ms/sample - loss: 1.0844 - acc: 0.3386 - val_loss: 1.0879 - val_acc: 0.5333\n",
            "Epoch 2/50\n",
            "127/127 [==============================] - 0s 173us/sample - loss: 1.0740 - acc: 0.3858 - val_loss: 1.0766 - val_acc: 0.5333\n",
            "Epoch 3/50\n",
            "127/127 [==============================] - 0s 152us/sample - loss: 1.0595 - acc: 0.4646 - val_loss: 1.0630 - val_acc: 0.6000\n",
            "Epoch 4/50\n",
            "127/127 [==============================] - 0s 147us/sample - loss: 1.0450 - acc: 0.4724 - val_loss: 1.0438 - val_acc: 0.6000\n",
            "Epoch 5/50\n",
            "127/127 [==============================] - 0s 150us/sample - loss: 1.0233 - acc: 0.5669 - val_loss: 1.0160 - val_acc: 0.6000\n",
            "Epoch 6/50\n",
            "127/127 [==============================] - 0s 162us/sample - loss: 0.9931 - acc: 0.6929 - val_loss: 0.9820 - val_acc: 0.5333\n",
            "Epoch 7/50\n",
            "127/127 [==============================] - 0s 155us/sample - loss: 0.9708 - acc: 0.6693 - val_loss: 0.9432 - val_acc: 0.6000\n",
            "Epoch 8/50\n",
            "127/127 [==============================] - 0s 154us/sample - loss: 0.9316 - acc: 0.7008 - val_loss: 0.9050 - val_acc: 0.6667\n",
            "Epoch 9/50\n",
            "127/127 [==============================] - 0s 144us/sample - loss: 0.8932 - acc: 0.6850 - val_loss: 0.8642 - val_acc: 0.6667\n",
            "Epoch 10/50\n",
            "127/127 [==============================] - 0s 156us/sample - loss: 0.8536 - acc: 0.7402 - val_loss: 0.8263 - val_acc: 0.6667\n",
            "Epoch 11/50\n",
            "127/127 [==============================] - 0s 161us/sample - loss: 0.7920 - acc: 0.7480 - val_loss: 0.7847 - val_acc: 0.6667\n",
            "Epoch 12/50\n",
            "127/127 [==============================] - 0s 153us/sample - loss: 0.7575 - acc: 0.7638 - val_loss: 0.7443 - val_acc: 0.6000\n",
            "Epoch 13/50\n",
            "127/127 [==============================] - 0s 187us/sample - loss: 0.7302 - acc: 0.7559 - val_loss: 0.7029 - val_acc: 0.6667\n",
            "Epoch 14/50\n",
            "127/127 [==============================] - 0s 158us/sample - loss: 0.6870 - acc: 0.7953 - val_loss: 0.6626 - val_acc: 0.7333\n",
            "Epoch 15/50\n",
            "127/127 [==============================] - 0s 163us/sample - loss: 0.6301 - acc: 0.8189 - val_loss: 0.6184 - val_acc: 0.7333\n",
            "Epoch 16/50\n",
            "127/127 [==============================] - 0s 165us/sample - loss: 0.5901 - acc: 0.8425 - val_loss: 0.5707 - val_acc: 0.8000\n",
            "Epoch 17/50\n",
            "127/127 [==============================] - 0s 176us/sample - loss: 0.5402 - acc: 0.8819 - val_loss: 0.5234 - val_acc: 0.8667\n",
            "Epoch 18/50\n",
            "127/127 [==============================] - 0s 149us/sample - loss: 0.4852 - acc: 0.9134 - val_loss: 0.4768 - val_acc: 0.9333\n",
            "Epoch 19/50\n",
            "127/127 [==============================] - 0s 156us/sample - loss: 0.4779 - acc: 0.9055 - val_loss: 0.4339 - val_acc: 1.0000\n",
            "Epoch 20/50\n",
            "127/127 [==============================] - 0s 150us/sample - loss: 0.4401 - acc: 0.9213 - val_loss: 0.3883 - val_acc: 1.0000\n",
            "Epoch 21/50\n",
            "127/127 [==============================] - 0s 171us/sample - loss: 0.3879 - acc: 0.9528 - val_loss: 0.3417 - val_acc: 1.0000\n",
            "Epoch 22/50\n",
            "127/127 [==============================] - 0s 173us/sample - loss: 0.3263 - acc: 0.9449 - val_loss: 0.2935 - val_acc: 1.0000\n",
            "Epoch 23/50\n",
            "127/127 [==============================] - 0s 170us/sample - loss: 0.3137 - acc: 0.9528 - val_loss: 0.2464 - val_acc: 1.0000\n",
            "Epoch 24/50\n",
            "127/127 [==============================] - 0s 179us/sample - loss: 0.2454 - acc: 0.9606 - val_loss: 0.2078 - val_acc: 1.0000\n",
            "Epoch 25/50\n",
            "127/127 [==============================] - 0s 179us/sample - loss: 0.2383 - acc: 0.9449 - val_loss: 0.1773 - val_acc: 1.0000\n",
            "Epoch 26/50\n",
            "127/127 [==============================] - 0s 141us/sample - loss: 0.2423 - acc: 0.9291 - val_loss: 0.1535 - val_acc: 1.0000\n",
            "Epoch 27/50\n",
            "127/127 [==============================] - 0s 177us/sample - loss: 0.2136 - acc: 0.9449 - val_loss: 0.1344 - val_acc: 1.0000\n",
            "Epoch 28/50\n",
            "127/127 [==============================] - 0s 153us/sample - loss: 0.2145 - acc: 0.9291 - val_loss: 0.1182 - val_acc: 1.0000\n",
            "Epoch 29/50\n",
            "127/127 [==============================] - 0s 192us/sample - loss: 0.1788 - acc: 0.9528 - val_loss: 0.1055 - val_acc: 1.0000\n",
            "Epoch 30/50\n",
            "127/127 [==============================] - 0s 158us/sample - loss: 0.2015 - acc: 0.9213 - val_loss: 0.0944 - val_acc: 1.0000\n",
            "Epoch 31/50\n",
            "127/127 [==============================] - 0s 162us/sample - loss: 0.1292 - acc: 0.9843 - val_loss: 0.0844 - val_acc: 1.0000\n",
            "Epoch 32/50\n",
            "127/127 [==============================] - 0s 212us/sample - loss: 0.2064 - acc: 0.9291 - val_loss: 0.0761 - val_acc: 1.0000\n",
            "Epoch 33/50\n",
            "127/127 [==============================] - 0s 152us/sample - loss: 0.1409 - acc: 0.9606 - val_loss: 0.0686 - val_acc: 1.0000\n",
            "Epoch 34/50\n",
            "127/127 [==============================] - 0s 145us/sample - loss: 0.1460 - acc: 0.9685 - val_loss: 0.0629 - val_acc: 1.0000\n",
            "Epoch 35/50\n",
            "127/127 [==============================] - 0s 155us/sample - loss: 0.1235 - acc: 0.9528 - val_loss: 0.0577 - val_acc: 1.0000\n",
            "Epoch 36/50\n",
            "127/127 [==============================] - 0s 155us/sample - loss: 0.1298 - acc: 0.9685 - val_loss: 0.0505 - val_acc: 1.0000\n",
            "Epoch 37/50\n",
            "127/127 [==============================] - 0s 161us/sample - loss: 0.1346 - acc: 0.9685 - val_loss: 0.0447 - val_acc: 1.0000\n",
            "Epoch 38/50\n",
            "127/127 [==============================] - 0s 148us/sample - loss: 0.1082 - acc: 0.9685 - val_loss: 0.0399 - val_acc: 1.0000\n",
            "Epoch 39/50\n",
            "127/127 [==============================] - 0s 176us/sample - loss: 0.1004 - acc: 0.9606 - val_loss: 0.0357 - val_acc: 1.0000\n",
            "Epoch 40/50\n",
            "127/127 [==============================] - 0s 184us/sample - loss: 0.0942 - acc: 0.9685 - val_loss: 0.0319 - val_acc: 1.0000\n",
            "Epoch 41/50\n",
            "127/127 [==============================] - 0s 178us/sample - loss: 0.0637 - acc: 0.9843 - val_loss: 0.0288 - val_acc: 1.0000\n",
            "Epoch 42/50\n",
            "127/127 [==============================] - 0s 236us/sample - loss: 0.0827 - acc: 0.9843 - val_loss: 0.0263 - val_acc: 1.0000\n",
            "Epoch 43/50\n",
            "127/127 [==============================] - 0s 149us/sample - loss: 0.0471 - acc: 1.0000 - val_loss: 0.0242 - val_acc: 1.0000\n",
            "Epoch 44/50\n",
            "127/127 [==============================] - 0s 189us/sample - loss: 0.0472 - acc: 1.0000 - val_loss: 0.0220 - val_acc: 1.0000\n",
            "Epoch 45/50\n",
            "127/127 [==============================] - 0s 226us/sample - loss: 0.0580 - acc: 0.9843 - val_loss: 0.0201 - val_acc: 1.0000\n",
            "Epoch 46/50\n",
            "127/127 [==============================] - 0s 184us/sample - loss: 0.0828 - acc: 0.9764 - val_loss: 0.0186 - val_acc: 1.0000\n",
            "Epoch 47/50\n",
            "127/127 [==============================] - 0s 199us/sample - loss: 0.0815 - acc: 0.9843 - val_loss: 0.0173 - val_acc: 1.0000\n",
            "Epoch 48/50\n",
            "127/127 [==============================] - 0s 163us/sample - loss: 0.0709 - acc: 0.9685 - val_loss: 0.0159 - val_acc: 1.0000\n",
            "Epoch 49/50\n",
            "127/127 [==============================] - 0s 140us/sample - loss: 0.0547 - acc: 0.9921 - val_loss: 0.0147 - val_acc: 1.0000\n",
            "Epoch 50/50\n",
            "127/127 [==============================] - 0s 149us/sample - loss: 0.0681 - acc: 0.9921 - val_loss: 0.0135 - val_acc: 1.0000\n"
          ],
          "name": "stdout"
        },
        {
          "output_type": "execute_result",
          "data": {
            "text/plain": [
              "<tensorflow.python.keras.callbacks.History at 0x7f700bf364a8>"
            ]
          },
          "metadata": {
            "tags": []
          },
          "execution_count": 18
        }
      ]
    },
    {
      "cell_type": "code",
      "metadata": {
        "id": "T7vsMwCAml1q",
        "colab_type": "code",
        "outputId": "0d62a33a-00e6-4755-c57a-c2f0c5288138",
        "colab": {
          "base_uri": "https://localhost:8080/",
          "height": 33
        }
      },
      "source": [
        "test_loss, test_accuracy = model_DNN.evaluate(x=X_test_std, y=y_test)\n"
      ],
      "execution_count": 0,
      "outputs": [
        {
          "output_type": "stream",
          "text": [
            "36/36 [==============================] - 0s 131us/sample - loss: 0.0571 - acc: 0.9722\n"
          ],
          "name": "stdout"
        }
      ]
    },
    {
      "cell_type": "code",
      "metadata": {
        "id": "xwDHB_pHmqVQ",
        "colab_type": "code",
        "outputId": "80ea8645-3c20-4220-edaa-1cb9a44d425c",
        "colab": {
          "base_uri": "https://localhost:8080/",
          "height": 33
        }
      },
      "source": [
        "print(test_loss,test_accuracy)"
      ],
      "execution_count": 0,
      "outputs": [
        {
          "output_type": "stream",
          "text": [
            "0.05711980490013957 0.9722222\n"
          ],
          "name": "stdout"
        }
      ]
    },
    {
      "cell_type": "code",
      "metadata": {
        "id": "y8cD4GwKmvud",
        "colab_type": "code",
        "colab": {}
      },
      "source": [
        ""
      ],
      "execution_count": 0,
      "outputs": []
    }
  ]
}