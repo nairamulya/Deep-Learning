{
  "nbformat": 4,
  "nbformat_minor": 0,
  "metadata": {
    "colab": {
      "name": "7.indian liver patient record.ipynb",
      "provenance": [],
      "collapsed_sections": [],
      "authorship_tag": "ABX9TyMTl3HkUKb9Lh6isKPCKp1a",
      "include_colab_link": true
    },
    "kernelspec": {
      "name": "python3",
      "display_name": "Python 3"
    }
  },
  "cells": [
    {
      "cell_type": "markdown",
      "metadata": {
        "id": "view-in-github",
        "colab_type": "text"
      },
      "source": [
        "<a href=\"https://colab.research.google.com/github/nairamulya/Deep-Learning/blob/master/7_indian_liver_patient_record.ipynb\" target=\"_parent\"><img src=\"https://colab.research.google.com/assets/colab-badge.svg\" alt=\"Open In Colab\"/></a>"
      ]
    },
    {
      "cell_type": "code",
      "metadata": {
        "id": "LHtRmF3RwNVJ",
        "colab_type": "code",
        "outputId": "84597ff6-a2ee-4138-e825-4499e51b630b",
        "colab": {
          "base_uri": "https://localhost:8080/",
          "height": 120
        }
      },
      "source": [
        "from google.colab import drive\n",
        "drive.mount('/content/drive')"
      ],
      "execution_count": 0,
      "outputs": [
        {
          "output_type": "stream",
          "text": [
            "Go to this URL in a browser: https://accounts.google.com/o/oauth2/auth?client_id=947318989803-6bn6qk8qdgf4n4g3pfee6491hc0brc4i.apps.googleusercontent.com&redirect_uri=urn%3aietf%3awg%3aoauth%3a2.0%3aoob&response_type=code&scope=email%20https%3a%2f%2fwww.googleapis.com%2fauth%2fdocs.test%20https%3a%2f%2fwww.googleapis.com%2fauth%2fdrive%20https%3a%2f%2fwww.googleapis.com%2fauth%2fdrive.photos.readonly%20https%3a%2f%2fwww.googleapis.com%2fauth%2fpeopleapi.readonly\n",
            "\n",
            "Enter your authorization code:\n",
            "··········\n",
            "Mounted at /content/drive\n"
          ],
          "name": "stdout"
        }
      ]
    },
    {
      "cell_type": "code",
      "metadata": {
        "id": "osvyP6nexZ3Y",
        "colab_type": "code",
        "colab": {}
      },
      "source": [
        "import numpy as np\n",
        "import pandas as pd"
      ],
      "execution_count": 0,
      "outputs": []
    },
    {
      "cell_type": "code",
      "metadata": {
        "id": "WHAReqQByKHi",
        "colab_type": "code",
        "colab": {}
      },
      "source": [
        "data = pd.read_csv('/content/drive/My Drive/indian_liver_patient.csv')"
      ],
      "execution_count": 0,
      "outputs": []
    },
    {
      "cell_type": "code",
      "metadata": {
        "id": "5HRfhHcgyQ6t",
        "colab_type": "code",
        "outputId": "3bdb1464-5091-406f-c264-8423b4400549",
        "colab": {
          "base_uri": "https://localhost:8080/",
          "height": 284
        }
      },
      "source": [
        "data.info()"
      ],
      "execution_count": 0,
      "outputs": [
        {
          "output_type": "stream",
          "text": [
            "<class 'pandas.core.frame.DataFrame'>\n",
            "RangeIndex: 583 entries, 0 to 582\n",
            "Data columns (total 11 columns):\n",
            "Age                           583 non-null int64\n",
            "Gender                        583 non-null object\n",
            "Total_Bilirubin               583 non-null float64\n",
            "Direct_Bilirubin              583 non-null float64\n",
            "Alkaline_Phosphotase          583 non-null int64\n",
            "Alamine_Aminotransferase      583 non-null int64\n",
            "Aspartate_Aminotransferase    583 non-null int64\n",
            "Total_Protiens                583 non-null float64\n",
            "Albumin                       583 non-null float64\n",
            "Albumin_and_Globulin_Ratio    579 non-null float64\n",
            "Dataset                       583 non-null int64\n",
            "dtypes: float64(5), int64(5), object(1)\n",
            "memory usage: 50.2+ KB\n"
          ],
          "name": "stdout"
        }
      ]
    },
    {
      "cell_type": "code",
      "metadata": {
        "id": "uIQ_gP9EzYAd",
        "colab_type": "code",
        "outputId": "50b7d418-fdfc-4099-852e-41dd12f90e7a",
        "colab": {
          "base_uri": "https://localhost:8080/",
          "height": 284
        }
      },
      "source": [
        "from sklearn import preprocessing\n",
        "le = preprocessing.LabelEncoder()\n",
        "le.fit(data['Gender'])\n",
        "data['Gender']=le.transform(data['Gender'])\n",
        "data.dropna(inplace=True)\n",
        "data['Albumin_and_Globulin_Ratio'] = data['Albumin_and_Globulin_Ratio'].dropna()\n",
        "data.info()"
      ],
      "execution_count": 0,
      "outputs": [
        {
          "output_type": "stream",
          "text": [
            "<class 'pandas.core.frame.DataFrame'>\n",
            "Int64Index: 579 entries, 0 to 582\n",
            "Data columns (total 11 columns):\n",
            "Age                           579 non-null int64\n",
            "Gender                        579 non-null int64\n",
            "Total_Bilirubin               579 non-null float64\n",
            "Direct_Bilirubin              579 non-null float64\n",
            "Alkaline_Phosphotase          579 non-null int64\n",
            "Alamine_Aminotransferase      579 non-null int64\n",
            "Aspartate_Aminotransferase    579 non-null int64\n",
            "Total_Protiens                579 non-null float64\n",
            "Albumin                       579 non-null float64\n",
            "Albumin_and_Globulin_Ratio    579 non-null float64\n",
            "Dataset                       579 non-null int64\n",
            "dtypes: float64(5), int64(6)\n",
            "memory usage: 54.3 KB\n"
          ],
          "name": "stdout"
        }
      ]
    },
    {
      "cell_type": "code",
      "metadata": {
        "id": "TSaIj2gGzcrG",
        "colab_type": "code",
        "colab": {}
      },
      "source": [
        "y=data['Dataset']\n",
        "data.drop(['Dataset'],axis=1,inplace=True)\n",
        "from sklearn.model_selection import train_test_split\n",
        "X_train, X_test, y_train, y_test = train_test_split(data, y, test_size=0.275, stratify=y,random_state=42)"
      ],
      "execution_count": 0,
      "outputs": []
    },
    {
      "cell_type": "code",
      "metadata": {
        "id": "0ae_nrEwzg6r",
        "colab_type": "code",
        "colab": {}
      },
      "source": [
        ""
      ],
      "execution_count": 0,
      "outputs": []
    },
    {
      "cell_type": "markdown",
      "metadata": {
        "id": "Sta0H1PMzsUj",
        "colab_type": "text"
      },
      "source": [
        "##perceptron"
      ]
    },
    {
      "cell_type": "code",
      "metadata": {
        "id": "s8lRz4a9zyrz",
        "colab_type": "code",
        "outputId": "0941c252-d655-433a-ab6d-3d774b1b1d82",
        "colab": {
          "base_uri": "https://localhost:8080/",
          "height": 84
        }
      },
      "source": [
        "from sklearn.linear_model import Perceptron\n",
        "perceptronClassifier = Perceptron(alpha=.1,max_iter=100, n_iter_no_change=5)\n",
        "perceptronClassifier.fit(X_train, y_train)"
      ],
      "execution_count": 0,
      "outputs": [
        {
          "output_type": "execute_result",
          "data": {
            "text/plain": [
              "Perceptron(alpha=0.1, class_weight=None, early_stopping=False, eta0=1.0,\n",
              "           fit_intercept=True, max_iter=100, n_iter_no_change=5, n_jobs=None,\n",
              "           penalty=None, random_state=0, shuffle=True, tol=0.001,\n",
              "           validation_fraction=0.1, verbose=0, warm_start=False)"
            ]
          },
          "metadata": {
            "tags": []
          },
          "execution_count": 14
        }
      ]
    },
    {
      "cell_type": "code",
      "metadata": {
        "id": "gXJdesZmz0RW",
        "colab_type": "code",
        "outputId": "259e75af-b77c-4ed0-8c1a-6dbdc5aa2079",
        "colab": {
          "base_uri": "https://localhost:8080/",
          "height": 33
        }
      },
      "source": [
        "print(perceptronClassifier.score(X_test, y_test))"
      ],
      "execution_count": 0,
      "outputs": [
        {
          "output_type": "stream",
          "text": [
            "0.7125\n"
          ],
          "name": "stdout"
        }
      ]
    },
    {
      "cell_type": "code",
      "metadata": {
        "id": "w1b2bG6Tz8F-",
        "colab_type": "code",
        "colab": {}
      },
      "source": [
        ""
      ],
      "execution_count": 0,
      "outputs": []
    },
    {
      "cell_type": "markdown",
      "metadata": {
        "id": "Ti8YTqbA0DS3",
        "colab_type": "text"
      },
      "source": [
        "##Multilayer perceptron "
      ]
    },
    {
      "cell_type": "code",
      "metadata": {
        "id": "mfDkIETp0I5-",
        "colab_type": "code",
        "colab": {}
      },
      "source": [
        "from sklearn.neural_network import MLPClassifier"
      ],
      "execution_count": 0,
      "outputs": []
    },
    {
      "cell_type": "code",
      "metadata": {
        "id": "BW4EhxLu0JrO",
        "colab_type": "code",
        "outputId": "660d7fcc-6f75-4401-e03a-fcf589c0f3fa",
        "colab": {
          "base_uri": "https://localhost:8080/",
          "height": 150
        }
      },
      "source": [
        "mlpClassifier = MLPClassifier(solver = 'lbfgs' , alpha = 1e-5 ,hidden_layer_sizes = ( 25 , 10 ), random_state = 1 )\n",
        "mlpClassifier.fit(X_train, y_train)"
      ],
      "execution_count": 0,
      "outputs": [
        {
          "output_type": "execute_result",
          "data": {
            "text/plain": [
              "MLPClassifier(activation='relu', alpha=1e-05, batch_size='auto', beta_1=0.9,\n",
              "              beta_2=0.999, early_stopping=False, epsilon=1e-08,\n",
              "              hidden_layer_sizes=(25, 10), learning_rate='constant',\n",
              "              learning_rate_init=0.001, max_fun=15000, max_iter=200,\n",
              "              momentum=0.9, n_iter_no_change=10, nesterovs_momentum=True,\n",
              "              power_t=0.5, random_state=1, shuffle=True, solver='lbfgs',\n",
              "              tol=0.0001, validation_fraction=0.1, verbose=False,\n",
              "              warm_start=False)"
            ]
          },
          "metadata": {
            "tags": []
          },
          "execution_count": 17
        }
      ]
    },
    {
      "cell_type": "code",
      "metadata": {
        "id": "Szs7xtPg0NiL",
        "colab_type": "code",
        "outputId": "e10352cf-239e-4fad-b331-5b9b88c735cd",
        "colab": {
          "base_uri": "https://localhost:8080/",
          "height": 33
        }
      },
      "source": [
        "print(mlpClassifier.score(X_test, y_test))"
      ],
      "execution_count": 0,
      "outputs": [
        {
          "output_type": "stream",
          "text": [
            "0.7125\n"
          ],
          "name": "stdout"
        }
      ]
    },
    {
      "cell_type": "code",
      "metadata": {
        "id": "l6e31YR30XRU",
        "colab_type": "code",
        "colab": {}
      },
      "source": [
        ""
      ],
      "execution_count": 0,
      "outputs": []
    },
    {
      "cell_type": "markdown",
      "metadata": {
        "id": "y7YFOvhE0a3E",
        "colab_type": "text"
      },
      "source": [
        "##Keras"
      ]
    },
    {
      "cell_type": "code",
      "metadata": {
        "id": "LXUrFpNr0d1D",
        "colab_type": "code",
        "outputId": "ce896c24-a89c-4a5c-d8aa-775add60dfe7",
        "colab": {
          "base_uri": "https://localhost:8080/",
          "height": 62
        }
      },
      "source": [
        "import tensorflow as tf\n",
        "from tensorflow import keras"
      ],
      "execution_count": 0,
      "outputs": [
        {
          "output_type": "display_data",
          "data": {
            "text/html": [
              "<p style=\"color: red;\">\n",
              "The default version of TensorFlow in Colab will soon switch to TensorFlow 2.x.<br>\n",
              "We recommend you <a href=\"https://www.tensorflow.org/guide/migrate\" target=\"_blank\">upgrade</a> now \n",
              "or ensure your notebook will continue to use TensorFlow 1.x via the <code>%tensorflow_version 1.x</code> magic:\n",
              "<a href=\"https://colab.research.google.com/notebooks/tensorflow_version.ipynb\" target=\"_blank\">more info</a>.</p>\n"
            ],
            "text/plain": [
              "<IPython.core.display.HTML object>"
            ]
          },
          "metadata": {
            "tags": []
          }
        }
      ]
    },
    {
      "cell_type": "code",
      "metadata": {
        "id": "MH9znPWw0efw",
        "colab_type": "code",
        "colab": {}
      },
      "source": [
        "tf.set_random_seed(42)\n",
        "np.random.seed(42)"
      ],
      "execution_count": 0,
      "outputs": []
    },
    {
      "cell_type": "code",
      "metadata": {
        "id": "xkCay2Li0ip-",
        "colab_type": "code",
        "outputId": "dc69e6d7-6303-4094-a54f-30e2e7bbb1e1",
        "colab": {
          "base_uri": "https://localhost:8080/",
          "height": 87
        }
      },
      "source": [
        "model=keras.models.Sequential()\n",
        "\n",
        "model.add(keras.layers.Dense(units=1, activation='relu', input_shape= X_train.shape[1:]))\n",
        "model.add(keras.layers.Dense(units=1, activation='sigmoid'))"
      ],
      "execution_count": 0,
      "outputs": [
        {
          "output_type": "stream",
          "text": [
            "WARNING:tensorflow:From /usr/local/lib/python3.6/dist-packages/tensorflow_core/python/ops/resource_variable_ops.py:1630: calling BaseResourceVariable.__init__ (from tensorflow.python.ops.resource_variable_ops) with constraint is deprecated and will be removed in a future version.\n",
            "Instructions for updating:\n",
            "If using Keras pass *_constraint arguments to layers.\n"
          ],
          "name": "stdout"
        }
      ]
    },
    {
      "cell_type": "code",
      "metadata": {
        "id": "odjJ7T8u0oZU",
        "colab_type": "code",
        "outputId": "0d313ee5-1f6d-40e7-b4fa-a6bae6356b12",
        "colab": {
          "base_uri": "https://localhost:8080/",
          "height": 217
        }
      },
      "source": [
        "model.summary()"
      ],
      "execution_count": 0,
      "outputs": [
        {
          "output_type": "stream",
          "text": [
            "Model: \"sequential\"\n",
            "_________________________________________________________________\n",
            "Layer (type)                 Output Shape              Param #   \n",
            "=================================================================\n",
            "dense (Dense)                (None, 1)                 11        \n",
            "_________________________________________________________________\n",
            "dense_1 (Dense)              (None, 1)                 2         \n",
            "=================================================================\n",
            "Total params: 13\n",
            "Trainable params: 13\n",
            "Non-trainable params: 0\n",
            "_________________________________________________________________\n"
          ],
          "name": "stdout"
        }
      ]
    },
    {
      "cell_type": "code",
      "metadata": {
        "id": "28D8hWur0rfw",
        "colab_type": "code",
        "outputId": "3fc001c2-c8ef-4837-c498-7a6bc3b8a7b6",
        "colab": {
          "base_uri": "https://localhost:8080/",
          "height": 1000
        }
      },
      "source": [
        "model.compile(loss='binary_crossentropy', optimizer='adam', metrics=['accuracy'])\n",
        "model.fit(x=X_train, y=y_train, validation_split=0.1, epochs=50, batch_size=16)"
      ],
      "execution_count": 0,
      "outputs": [
        {
          "output_type": "stream",
          "text": [
            "WARNING:tensorflow:From /usr/local/lib/python3.6/dist-packages/tensorflow_core/python/ops/nn_impl.py:183: where (from tensorflow.python.ops.array_ops) is deprecated and will be removed in a future version.\n",
            "Instructions for updating:\n",
            "Use tf.where in 2.0, which has the same broadcast rule as np.where\n",
            "Train on 377 samples, validate on 42 samples\n",
            "Epoch 1/50\n",
            "377/377 [==============================] - 0s 895us/sample - loss: 0.6787 - acc: 0.6711 - val_loss: 0.6772 - val_acc: 0.8333\n",
            "Epoch 2/50\n",
            "377/377 [==============================] - 0s 90us/sample - loss: 0.6599 - acc: 0.7029 - val_loss: 0.6614 - val_acc: 0.8333\n",
            "Epoch 3/50\n",
            "377/377 [==============================] - 0s 87us/sample - loss: 0.6413 - acc: 0.7029 - val_loss: 0.6460 - val_acc: 0.8333\n",
            "Epoch 4/50\n",
            "377/377 [==============================] - 0s 106us/sample - loss: 0.6230 - acc: 0.7029 - val_loss: 0.6309 - val_acc: 0.8333\n",
            "Epoch 5/50\n",
            "377/377 [==============================] - 0s 83us/sample - loss: 0.6050 - acc: 0.7029 - val_loss: 0.6161 - val_acc: 0.8333\n",
            "Epoch 6/50\n",
            "377/377 [==============================] - 0s 91us/sample - loss: 0.5872 - acc: 0.7029 - val_loss: 0.6012 - val_acc: 0.8333\n",
            "Epoch 7/50\n",
            "377/377 [==============================] - 0s 86us/sample - loss: 0.5695 - acc: 0.7029 - val_loss: 0.5867 - val_acc: 0.8333\n",
            "Epoch 8/50\n",
            "377/377 [==============================] - 0s 83us/sample - loss: 0.5521 - acc: 0.7029 - val_loss: 0.5723 - val_acc: 0.8333\n",
            "Epoch 9/50\n",
            "377/377 [==============================] - 0s 127us/sample - loss: 0.5349 - acc: 0.7029 - val_loss: 0.5579 - val_acc: 0.8333\n",
            "Epoch 10/50\n",
            "377/377 [==============================] - 0s 97us/sample - loss: 0.5178 - acc: 0.7029 - val_loss: 0.5441 - val_acc: 0.8333\n",
            "Epoch 11/50\n",
            "377/377 [==============================] - 0s 92us/sample - loss: 0.5011 - acc: 0.7029 - val_loss: 0.5300 - val_acc: 0.8333\n",
            "Epoch 12/50\n",
            "377/377 [==============================] - 0s 87us/sample - loss: 0.4832 - acc: 0.7029 - val_loss: 0.5165 - val_acc: 0.8333\n",
            "Epoch 13/50\n",
            "377/377 [==============================] - 0s 85us/sample - loss: 0.4665 - acc: 0.7029 - val_loss: 0.5030 - val_acc: 0.8333\n",
            "Epoch 14/50\n",
            "377/377 [==============================] - 0s 86us/sample - loss: 0.4503 - acc: 0.7029 - val_loss: 0.4896 - val_acc: 0.8333\n",
            "Epoch 15/50\n",
            "377/377 [==============================] - 0s 104us/sample - loss: 0.4341 - acc: 0.7029 - val_loss: 0.4767 - val_acc: 0.8333\n",
            "Epoch 16/50\n",
            "377/377 [==============================] - 0s 120us/sample - loss: 0.4183 - acc: 0.7029 - val_loss: 0.4636 - val_acc: 0.8333\n",
            "Epoch 17/50\n",
            "377/377 [==============================] - 0s 119us/sample - loss: 0.4025 - acc: 0.7029 - val_loss: 0.4509 - val_acc: 0.8333\n",
            "Epoch 18/50\n",
            "377/377 [==============================] - 0s 107us/sample - loss: 0.3870 - acc: 0.7029 - val_loss: 0.4381 - val_acc: 0.8333\n",
            "Epoch 19/50\n",
            "377/377 [==============================] - 0s 98us/sample - loss: 0.3716 - acc: 0.7029 - val_loss: 0.4256 - val_acc: 0.8333\n",
            "Epoch 20/50\n",
            "377/377 [==============================] - 0s 88us/sample - loss: 0.3563 - acc: 0.7029 - val_loss: 0.4134 - val_acc: 0.8333\n",
            "Epoch 21/50\n",
            "377/377 [==============================] - 0s 95us/sample - loss: 0.3414 - acc: 0.7029 - val_loss: 0.4011 - val_acc: 0.8333\n",
            "Epoch 22/50\n",
            "377/377 [==============================] - 0s 112us/sample - loss: 0.3265 - acc: 0.7029 - val_loss: 0.3892 - val_acc: 0.8333\n",
            "Epoch 23/50\n",
            "377/377 [==============================] - 0s 95us/sample - loss: 0.3117 - acc: 0.7029 - val_loss: 0.3774 - val_acc: 0.8333\n",
            "Epoch 24/50\n",
            "377/377 [==============================] - 0s 97us/sample - loss: 0.2941 - acc: 0.7029 - val_loss: 0.3657 - val_acc: 0.8333\n",
            "Epoch 25/50\n",
            "377/377 [==============================] - 0s 87us/sample - loss: 0.2794 - acc: 0.7029 - val_loss: 0.3543 - val_acc: 0.8333\n",
            "Epoch 26/50\n",
            "377/377 [==============================] - 0s 81us/sample - loss: 0.2653 - acc: 0.7029 - val_loss: 0.3429 - val_acc: 0.8333\n",
            "Epoch 27/50\n",
            "377/377 [==============================] - 0s 87us/sample - loss: 0.2512 - acc: 0.7029 - val_loss: 0.3318 - val_acc: 0.8333\n",
            "Epoch 28/50\n",
            "377/377 [==============================] - 0s 87us/sample - loss: 0.2375 - acc: 0.7029 - val_loss: 0.3204 - val_acc: 0.8333\n",
            "Epoch 29/50\n",
            "377/377 [==============================] - 0s 83us/sample - loss: 0.2233 - acc: 0.7029 - val_loss: 0.3079 - val_acc: 0.8333\n",
            "Epoch 30/50\n",
            "377/377 [==============================] - 0s 88us/sample - loss: 0.2096 - acc: 0.7029 - val_loss: 0.2944 - val_acc: 0.8333\n",
            "Epoch 31/50\n",
            "377/377 [==============================] - 0s 98us/sample - loss: 0.1961 - acc: 0.7029 - val_loss: 0.2823 - val_acc: 0.8333\n",
            "Epoch 32/50\n",
            "377/377 [==============================] - 0s 103us/sample - loss: 0.1815 - acc: 0.7029 - val_loss: 0.2688 - val_acc: 0.8333\n",
            "Epoch 33/50\n",
            "377/377 [==============================] - 0s 91us/sample - loss: 0.1666 - acc: 0.7029 - val_loss: 0.2581 - val_acc: 0.8333\n",
            "Epoch 34/50\n",
            "377/377 [==============================] - 0s 85us/sample - loss: 0.1537 - acc: 0.7029 - val_loss: 0.2479 - val_acc: 0.8333\n",
            "Epoch 35/50\n",
            "377/377 [==============================] - 0s 90us/sample - loss: 0.1409 - acc: 0.7029 - val_loss: 0.2382 - val_acc: 0.8333\n",
            "Epoch 36/50\n",
            "377/377 [==============================] - 0s 83us/sample - loss: 0.1282 - acc: 0.7029 - val_loss: 0.2283 - val_acc: 0.8333\n",
            "Epoch 37/50\n",
            "377/377 [==============================] - 0s 107us/sample - loss: 0.1151 - acc: 0.7029 - val_loss: 0.2183 - val_acc: 0.8333\n",
            "Epoch 38/50\n",
            "377/377 [==============================] - 0s 101us/sample - loss: 0.1025 - acc: 0.7029 - val_loss: 0.2088 - val_acc: 0.8333\n",
            "Epoch 39/50\n",
            "377/377 [==============================] - 0s 125us/sample - loss: 0.0904 - acc: 0.7029 - val_loss: 0.1994 - val_acc: 0.8333\n",
            "Epoch 40/50\n",
            "377/377 [==============================] - 0s 86us/sample - loss: 0.0784 - acc: 0.7029 - val_loss: 0.1900 - val_acc: 0.8333\n",
            "Epoch 41/50\n",
            "377/377 [==============================] - 0s 102us/sample - loss: 0.0663 - acc: 0.7029 - val_loss: 0.1809 - val_acc: 0.8333\n",
            "Epoch 42/50\n",
            "377/377 [==============================] - 0s 89us/sample - loss: 0.0546 - acc: 0.7029 - val_loss: 0.1717 - val_acc: 0.8333\n",
            "Epoch 43/50\n",
            "377/377 [==============================] - 0s 94us/sample - loss: 0.0429 - acc: 0.7029 - val_loss: 0.1626 - val_acc: 0.8333\n",
            "Epoch 44/50\n",
            "377/377 [==============================] - 0s 91us/sample - loss: 0.0312 - acc: 0.7029 - val_loss: 0.1537 - val_acc: 0.8333\n",
            "Epoch 45/50\n",
            "377/377 [==============================] - 0s 100us/sample - loss: 0.0197 - acc: 0.7029 - val_loss: 0.1449 - val_acc: 0.8333\n",
            "Epoch 46/50\n",
            "377/377 [==============================] - 0s 95us/sample - loss: 0.0083 - acc: 0.7029 - val_loss: 0.1362 - val_acc: 0.8333\n",
            "Epoch 47/50\n",
            "377/377 [==============================] - 0s 104us/sample - loss: -0.0029 - acc: 0.7029 - val_loss: 0.1274 - val_acc: 0.8333\n",
            "Epoch 48/50\n",
            "377/377 [==============================] - 0s 88us/sample - loss: -0.0141 - acc: 0.7029 - val_loss: 0.1189 - val_acc: 0.8333\n",
            "Epoch 49/50\n",
            "377/377 [==============================] - 0s 93us/sample - loss: -0.0252 - acc: 0.7029 - val_loss: 0.1106 - val_acc: 0.8333\n",
            "Epoch 50/50\n",
            "377/377 [==============================] - 0s 95us/sample - loss: -0.0361 - acc: 0.7029 - val_loss: 0.1023 - val_acc: 0.8333\n"
          ],
          "name": "stdout"
        },
        {
          "output_type": "execute_result",
          "data": {
            "text/plain": [
              "<tensorflow.python.keras.callbacks.History at 0x7f15093875f8>"
            ]
          },
          "metadata": {
            "tags": []
          },
          "execution_count": 23
        }
      ]
    },
    {
      "cell_type": "code",
      "metadata": {
        "id": "rJ0MIHoF0zH2",
        "colab_type": "code",
        "outputId": "c8a7b629-b473-4284-b878-72309878580a",
        "colab": {
          "base_uri": "https://localhost:8080/",
          "height": 33
        }
      },
      "source": [
        "test_loss, test_accuracy = model.evaluate(x=X_test, y=y_test)"
      ],
      "execution_count": 0,
      "outputs": [
        {
          "output_type": "stream",
          "text": [
            "160/160 [==============================] - 0s 42us/sample - loss: -0.0257 - acc: 0.7125\n"
          ],
          "name": "stdout"
        }
      ]
    },
    {
      "cell_type": "code",
      "metadata": {
        "id": "cp6llEwH03XF",
        "colab_type": "code",
        "outputId": "36e081c4-077e-4ce1-9a0b-0d97592caf04",
        "colab": {
          "base_uri": "https://localhost:8080/",
          "height": 50
        }
      },
      "source": [
        "print(test_loss )\n",
        "print( test_accuracy)"
      ],
      "execution_count": 0,
      "outputs": [
        {
          "output_type": "stream",
          "text": [
            "-0.025663284957408904\n",
            "0.7125\n"
          ],
          "name": "stdout"
        }
      ]
    },
    {
      "cell_type": "code",
      "metadata": {
        "id": "KFwyyu-j08jt",
        "colab_type": "code",
        "colab": {}
      },
      "source": [
        ""
      ],
      "execution_count": 0,
      "outputs": []
    }
  ]
}